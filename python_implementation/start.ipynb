{
 "cells": [
  {
   "cell_type": "code",
   "execution_count": 11,
   "metadata": {},
   "outputs": [],
   "source": [
    "import numpy\n",
    "from einsteinpy.symbolic import EinsteinTensor, MetricTensor\n",
    "from sympy import *"
   ]
  },
  {
   "cell_type": "markdown",
   "metadata": {},
   "source": [
    "# Quasinormal modes for electrically charged black brane in AdS5"
   ]
  },
  {
   "cell_type": "markdown",
   "metadata": {},
   "source": [
    "#### TODO? Copy introduction"
   ]
  },
  {
   "cell_type": "markdown",
   "metadata": {},
   "source": [
    "### Fluctuations for $k_T$ = 0 and $k_L = k$"
   ]
  },
  {
   "cell_type": "markdown",
   "metadata": {},
   "source": [
    "#### Riemannian geometry code:"
   ]
  },
  {
   "cell_type": "markdown",
   "metadata": {},
   "source": [
    "#### Metric ansatz:\n",
    "Use Poincaré patch coordinates."
   ]
  },
  {
   "cell_type": "code",
   "execution_count": 12,
   "metadata": {},
   "outputs": [],
   "source": [
    "# TODO: What are these\n",
    "def ZeroV(v):\n",
    "    return 0\n",
    "\n",
    "def Zero(v, r):\n",
    "    return 0\n",
    "\n",
    "# Define all necessary variables\n",
    "l, m = symbols('l, m')\n",
    "g, q, r = symbols('g, q, r', positive=True)\n",
    "mu = symbols('\\mu')\n",
    "t, x, y, z = symbols('t, x, y, z')\n",
    "coords = {t, x, y, z , r}\n",
    "\n",
    "# TODO: What are these\n",
    "Q = sqrt(3 * g**2 * q**2 / 4)\n",
    "A_t = -Q / r**2 + mu\n",
    "# CHECK: Q^2=3 g^2/(2 \\[Kappa]^2 l^2) q^2"
   ]
  },
  {
   "cell_type": "markdown",
   "metadata": {},
   "source": [
    "Define the RN black brane background metric:  \n",
    "TODO: Compare with paper"
   ]
  },
  {
   "cell_type": "code",
   "execution_count": 13,
   "metadata": {},
   "outputs": [
    {
     "data": {
      "text/latex": [
       "$\\displaystyle \\left[\\begin{matrix}- \\frac{r^{2} \\left(- \\frac{l^{2} m}{r^{4}} + \\frac{l^{2} q^{2}}{r^{6}} + 1\\right)}{l^{2}} & 0 & 0 & 0 & 0\\\\0 & \\frac{r^{2}}{l^{2}} & 0 & 0 & 0\\\\0 & 0 & \\frac{r^{2}}{l^{2}} & 0 & 0\\\\0 & 0 & 0 & \\frac{r^{2}}{l^{2}} & 0\\\\0 & 0 & 0 & 0 & \\frac{l^{2}}{r^{2} \\left(- \\frac{l^{2} m}{r^{4}} + \\frac{l^{2} q^{2}}{r^{6}} + 1\\right)}\\end{matrix}\\right]$"
      ],
      "text/plain": [
       "Matrix([\n",
       "[-r**2*(-l**2*m/r**4 + l**2*q**2/r**6 + 1)/l**2,         0,         0,         0,                                               0],\n",
       "[                                             0, r**2/l**2,         0,         0,                                               0],\n",
       "[                                             0,         0, r**2/l**2,         0,                                               0],\n",
       "[                                             0,         0,         0, r**2/l**2,                                               0],\n",
       "[                                             0,         0,         0,         0, l**2/(r**2*(-l**2*m/r**4 + l**2*q**2/r**6 + 1))]])"
      ]
     },
     "metadata": {},
     "output_type": "display_data"
    },
    {
     "data": {
      "text/latex": [
       "$\\displaystyle - \\frac{r^{6}}{l^{6}}$"
      ],
      "text/plain": [
       "-r**6/l**6"
      ]
     },
     "metadata": {},
     "output_type": "display_data"
    }
   ],
   "source": [
    "f = 1 - m * l**2 / r**4 + q**2 * l**2 / r**6\n",
    "\n",
    "# RN metric components\n",
    "g_tt = -r**2 / l**2 * f\n",
    "g_xx = r**2 / l**2 \n",
    "g_yy = r**2 / l**2\n",
    "g_zz = r**2 / l**2\n",
    "g_rr = l**2 / (r**2 * f)\n",
    "\n",
    "# Construct RN metric\n",
    "ansatz = diag(g_tt, g_xx, g_yy, g_zz, g_rr) \n",
    "display(ansatz)"
   ]
  },
  {
   "cell_type": "markdown",
   "metadata": {},
   "source": [
    "These transformations show that the chosen metric is equivalent to Starinet's metric?"
   ]
  },
  {
   "cell_type": "code",
   "execution_count": 14,
   "metadata": {},
   "outputs": [],
   "source": [
    "# Compare to Starinets' metric:\n",
    "# Simplify the metric through replacements\n",
    "\n",
    "# Replace q -> 0, l -> 1, m -> 1 and simplify\n",
    "# replacements = [(q, 0), (l, 1), (m, 1)]\n",
    "# ansatz = ansatz.subs(replacements)\n",
    "# display(ansatz)\n",
    "\n",
    "# Introduce new variable u as r = 1/sqrt(u)\n",
    "# u = symbols('u')\n",
    "# ansatz = simplify(ansatz.subs(r, 1/sqrt(u)))\n",
    "# display(ansatz)\n",
    "\n",
    "# Take the bottom right element and multiply by 1/(4 u**3)\n",
    "# a = simplify(ansatz[4,4] * 1/(4*u**3))\n",
    "# display(a)"
   ]
  },
  {
   "cell_type": "markdown",
   "metadata": {},
   "source": [
    "##### Choose radial gauge and impose symmetry of the metric:\n",
    "Define 5x5 matrix with components h_ii  \n",
    "We already put in some assumptions in:  \n",
    "1. The variables only depend on (t,z,r) not on (t,x,y,z,r)\n",
    "2. The matrix is self-adjoint\n",
    "3. h_ir = 0\n",
    "\n",
    "We also create a fluctuations vector, which also has no radial component"
   ]
  },
  {
   "cell_type": "code",
   "execution_count": 15,
   "metadata": {},
   "outputs": [
    {
     "data": {
      "text/latex": [
       "$\\displaystyle \\left[\\begin{matrix}-3.0 & 0 & 0 & 0\\\\0 & 3.0 \\cos^{2}{\\left(t \\right)} & 0 & 0\\\\0 & 0 & 3.0 \\cos^{2}{\\left(t \\right)} \\sinh^{2}{\\left(\\chi \\right)} & 0\\\\0 & 0 & 0 & 3.0 \\sin^{2}{\\left(\\theta \\right)} \\cos^{2}{\\left(t \\right)} \\sinh^{2}{\\left(\\chi \\right)}\\end{matrix}\\right]$"
      ],
      "text/plain": [
       "[[-3.0, 0, 0, 0], [0, 3.0*cos(t)**2, 0, 0], [0, 0, 3.0*cos(t)**2*sinh(chi)**2, 0], [0, 0, 0, 3.0*sin(theta)**2*cos(t)**2*sinh(chi)**2]]"
      ]
     },
     "metadata": {},
     "output_type": "display_data"
    }
   ],
   "source": [
    "fluctuations = None\n",
    "h_function = Function('f')(t, x, y, z, r)\n",
    "\n",
    "fluctuationsA = None"
   ]
  },
  {
   "cell_type": "markdown",
   "metadata": {},
   "source": [
    "##### Define the metric and gauge field including fluctuations and compute the GR tensors:"
   ]
  },
  {
   "cell_type": "code",
   "execution_count": 16,
   "metadata": {},
   "outputs": [
    {
     "ename": "TypeError",
     "evalue": "unsupported operand type(s) for *: 'Symbol' and 'NoneType'",
     "output_type": "error",
     "traceback": [
      "\u001b[0;31m---------------------------------------------------------------------------\u001b[0m",
      "\u001b[0;31mTypeError\u001b[0m                                 Traceback (most recent call last)",
      "\u001b[1;32m/home/finn/Documents/studienprojekt/python_implementation/start.ipynb Zelle 15\u001b[0m line \u001b[0;36m4\n\u001b[1;32m      <a href='vscode-notebook-cell:/home/finn/Documents/studienprojekt/python_implementation/start.ipynb#X16sZmlsZQ%3D%3D?line=0'>1</a>\u001b[0m eps \u001b[39m=\u001b[39m symbols(\u001b[39m'\u001b[39m\u001b[39meps\u001b[39m\u001b[39m'\u001b[39m)\n\u001b[1;32m      <a href='vscode-notebook-cell:/home/finn/Documents/studienprojekt/python_implementation/start.ipynb#X16sZmlsZQ%3D%3D?line=1'>2</a>\u001b[0m ll \u001b[39m=\u001b[39m \u001b[39m1\u001b[39m\n\u001b[0;32m----> <a href='vscode-notebook-cell:/home/finn/Documents/studienprojekt/python_implementation/start.ipynb#X16sZmlsZQ%3D%3D?line=3'>4</a>\u001b[0m GG \u001b[39m=\u001b[39m ansatz \u001b[39m+\u001b[39m eps \u001b[39m*\u001b[39;49m fluctuations \u001b[39m# + eps**2 <- Mathematica: O[eps]^2\u001b[39;00m\n\u001b[1;32m      <a href='vscode-notebook-cell:/home/finn/Documents/studienprojekt/python_implementation/start.ipynb#X16sZmlsZQ%3D%3D?line=4'>5</a>\u001b[0m AA \u001b[39m=\u001b[39m A_t \u001b[39m*\u001b[39m Matrix([\u001b[39m1\u001b[39m,\u001b[39m0\u001b[39m,\u001b[39m0\u001b[39m,\u001b[39m0\u001b[39m,\u001b[39m0\u001b[39m]) \u001b[39m+\u001b[39m eps \u001b[39m*\u001b[39m fluctuationsA \u001b[39m# + eps**2 <- Mathematica: O[eps]^2\u001b[39;00m\n\u001b[1;32m      <a href='vscode-notebook-cell:/home/finn/Documents/studienprojekt/python_implementation/start.ipynb#X16sZmlsZQ%3D%3D?line=6'>7</a>\u001b[0m \u001b[39m# This step uses a mathematica packages ://\u001b[39;00m\n\u001b[1;32m      <a href='vscode-notebook-cell:/home/finn/Documents/studienprojekt/python_implementation/start.ipynb#X16sZmlsZQ%3D%3D?line=7'>8</a>\u001b[0m \u001b[39m# https://library.wolfram.com/infocenter/MathSource/4484/\u001b[39;00m\n\u001b[1;32m      <a href='vscode-notebook-cell:/home/finn/Documents/studienprojekt/python_implementation/start.ipynb#X16sZmlsZQ%3D%3D?line=8'>9</a>\u001b[0m \u001b[39m# Alternatively use einsteinpy?\u001b[39;00m\n",
      "\u001b[0;31mTypeError\u001b[0m: unsupported operand type(s) for *: 'Symbol' and 'NoneType'"
     ]
    }
   ],
   "source": [
    "eps = symbols('eps')\n",
    "ll = 1\n",
    "\n",
    "GG = ansatz + eps * fluctuations # + eps**2 <- Mathematica: O[eps]^2\n",
    "AA = A_t * Matrix([1,0,0,0,0]) + eps * fluctuationsA # + eps**2 <- Mathematica: O[eps]^2\n",
    "\n",
    "# This step uses a mathematica packages ://\n",
    "# https://library.wolfram.com/infocenter/MathSource/4484/\n",
    "# Alternatively use einsteinpy?\n",
    "\n",
    "t, ch, th, ph = symbols(\"t chi theta phi\")\n",
    "m = diag(-1, cos(t) ** 2, cos(t) ** 2 * sinh(ch) ** 2, cos(t) ** 2 * sinh(ch) ** 2 * sin(th) ** 2).tolist()\n",
    "metric = MetricTensor(m, syms)\n",
    "einst = EinsteinTensor.from_metric(metric)\n",
    "display(einst.tensor())\n"
   ]
  }
 ],
 "metadata": {
  "kernelspec": {
   "display_name": ".venv",
   "language": "python",
   "name": "python3"
  },
  "language_info": {
   "codemirror_mode": {
    "name": "ipython",
    "version": 3
   },
   "file_extension": ".py",
   "mimetype": "text/x-python",
   "name": "python",
   "nbconvert_exporter": "python",
   "pygments_lexer": "ipython3",
   "version": "3.10.12"
  }
 },
 "nbformat": 4,
 "nbformat_minor": 2
}
