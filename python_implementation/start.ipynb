{
 "cells": [
  {
   "cell_type": "code",
   "execution_count": null,
   "metadata": {},
   "outputs": [],
   "source": [
    "import numpy\n",
    "from einsteinpy.symbolic import EinsteinTensor, MetricTensor\n",
    "from sympy import *\n",
    "import openai "
   ]
  },
  {
   "cell_type": "markdown",
   "metadata": {},
   "source": [
    "# Quasinormal modes for electrically charged black brane in AdS5"
   ]
  },
  {
   "cell_type": "markdown",
   "metadata": {},
   "source": [
    "#### TODO? Copy introduction"
   ]
  },
  {
   "cell_type": "markdown",
   "metadata": {},
   "source": [
    "### Fluctuations for $k_T$ = 0 and $k_L = k$"
   ]
  },
  {
   "cell_type": "markdown",
   "metadata": {},
   "source": [
    "#### Riemannian geometry code:"
   ]
  },
  {
   "cell_type": "markdown",
   "metadata": {},
   "source": [
    "#### Metric ansatz:\n",
    "Use Poincaré patch coordinates."
   ]
  },
  {
   "cell_type": "code",
   "execution_count": null,
   "metadata": {},
   "outputs": [],
   "source": [
    "# TODO: What are these\n",
    "def ZeroV(v):\n",
    "    return 0\n",
    "\n",
    "def Zero(v, r):\n",
    "    return 0\n",
    "\n",
    "# Define all necessary variables\n",
    "l, m = symbols('l, m')\n",
    "g, q, r = symbols('g, q, r', positive=True)\n",
    "mu = symbols('\\mu')\n",
    "t, x, y, z = symbols('t, x, y, z')\n",
    "coords = {t, x, y, z , r}\n",
    "coords_str = ['t', 'x', 'y', 'z', 'r']\n",
    "\n",
    "# TODO: What are these\n",
    "Q = sqrt(3 * g**2 * q**2 / 4)\n",
    "A_t = -Q / r**2 + mu\n",
    "# CHECK: Q^2=3 g^2/(2 \\[Kappa]^2 l^2) q^2"
   ]
  },
  {
   "cell_type": "markdown",
   "metadata": {},
   "source": [
    "Define the RN black brane background metric:  \n",
    "TODO: Compare with paper"
   ]
  },
  {
   "cell_type": "code",
   "execution_count": null,
   "metadata": {},
   "outputs": [],
   "source": [
    "f = 1 - m * l**2 / r**4 + q**2 * l**2 / r**6\n",
    "\n",
    "# RN metric components\n",
    "g_tt = -r**2 / l**2 * f\n",
    "g_xx = r**2 / l**2 \n",
    "g_yy = r**2 / l**2\n",
    "g_zz = r**2 / l**2\n",
    "g_rr = l**2 / (r**2 * f)\n",
    "\n",
    "# Construct RN metric\n",
    "ansatz = diag(g_tt, g_xx, g_yy, g_zz, g_rr) \n",
    "display(ansatz)"
   ]
  },
  {
   "cell_type": "markdown",
   "metadata": {},
   "source": [
    "These transformations show that the chosen metric is equivalent to Starinet's metric?"
   ]
  },
  {
   "cell_type": "code",
   "execution_count": null,
   "metadata": {},
   "outputs": [],
   "source": [
    "# Compare to Starinets' metric:\n",
    "# Simplify the metric through replacements\n",
    "\n",
    "# Replace q -> 0, l -> 1, m -> 1 and simplify\n",
    "# replacements = [(q, 0), (l, 1), (m, 1)]\n",
    "# ansatz = ansatz.subs(replacements)\n",
    "# display(ansatz)\n",
    "\n",
    "# Introduce new variable u as r = 1/sqrt(u)\n",
    "# u = symbols('u')\n",
    "# ansatz = simplify(ansatz.subs(r, 1/sqrt(u)))\n",
    "# display(ansatz)\n",
    "\n",
    "# Take the bottom right element and multiply by 1/(4 u**3)\n",
    "# a = simplify(ansatz[4,4] * 1/(4*u**3))\n",
    "# display(a)"
   ]
  },
  {
   "cell_type": "markdown",
   "metadata": {},
   "source": [
    "##### Choose radial gauge and impose symmetry of the metric:\n",
    "Define 5x5 matrix with components h_ii  \n",
    "We already put in some assumptions in:  \n",
    "1. The variables only depend on (t,z,r) not on (t,x,y,z,r)\n",
    "2. h_ir = 0\n",
    "3. The matrix is self-adjoint"
   ]
  },
  {
   "cell_type": "code",
   "execution_count": null,
   "metadata": {},
   "outputs": [],
   "source": [
    "h_functions = [[Function(f'h_{var2}{var1}')(t, z, r) for var1 in coords_str] for var2 in coords_str]\n",
    "fluctuations = Matrix(h_functions)\n",
    "\n",
    "# 2nd step: h_ir = 0\n",
    "for i in range(5):\n",
    "    fluctuations[i, 4] = 0\n",
    "\n",
    "# Change metric components to make self-adjoint\n",
    "for i in range(1, 5):\n",
    "    for j in range(i):\n",
    "        fluctuations[i, j] = fluctuations[j, i]\n",
    "\n",
    "display(fluctuations)\n"
   ]
  },
  {
   "cell_type": "markdown",
   "metadata": {},
   "source": [
    "We also create a fluctuations vector, which also has no radial component"
   ]
  },
  {
   "cell_type": "code",
   "execution_count": null,
   "metadata": {},
   "outputs": [],
   "source": [
    "a_functions = [Function(f'a_{var}')(t, z, r) for var in coords_str]\n",
    "fluctuationsA = Matrix(a_functions)\n",
    "\n",
    "# No radial component\n",
    "fluctuationsA[4] = 0\n",
    "\n",
    "display(fluctuationsA)"
   ]
  },
  {
   "cell_type": "markdown",
   "metadata": {},
   "source": [
    "##### Define the metric and gauge field including fluctuations and compute the GR tensors:"
   ]
  },
  {
   "cell_type": "code",
   "execution_count": null,
   "metadata": {},
   "outputs": [],
   "source": [
    "eps = symbols('eps')\n",
    "ll = 1\n",
    "\n",
    "GG = ansatz + eps * fluctuations # + eps**2 <- Mathematica: O[eps]^2\n",
    "AA = A_t * Matrix([1,0,0,0,0]) + eps * fluctuationsA # + eps**2 <- Mathematica: O[eps]^2\n",
    "\n",
    "\n",
    "display(GG)\n",
    "#use the metric to calculate the Einstein tensor\n",
    "einst = EinsteinTensor.from_metric(GG)\n",
    "display(einst.tensor())\n",
    "\n",
    "# This step uses a mathematica packages ://\n",
    "# https://library.wolfram.com/infocenter/MathSource/4484/\n",
    "# Alternatively use einsteinpy?\n",
    "\n",
    "# syms = symbols(\"t chi theta phi\")\n",
    "# t, ch, th, ph = syms\n",
    "# m = diag(-1, cos(t) ** 2, cos(t) ** 2 * sinh(ch) ** 2, cos(t) ** 2 * sinh(ch) ** 2 * sin(th) ** 2).tolist()\n",
    "# metric = MetricTensor(m, syms)\n",
    "# einst = EinsteinTensor.from_metric(metric)\n",
    "# display(einst.tensor())\n"
   ]
  },
  {
   "cell_type": "code",
   "execution_count": 12,
   "metadata": {},
   "outputs": [],
   "source": [
    "from sympy import symbols, Function, diag, Matrix\n",
    "from einsteinpy.symbolic import MetricTensor, EinsteinTensor\n",
    "\n",
    "# define your symbols and matrices\n",
    "eps = symbols('eps')\n",
    "t, z, r = symbols('t z r')\n",
    "coords_str = ['t', 'x', 'y', 'z', 'r']\n",
    "g_tt, g_xx, g_yy, g_zz, g_rr = symbols('g_tt g_xx g_yy g_zz g_rr')  # define these symbols\n",
    "\n",
    "h_functions = [[Function(f'h_{var2}{var1}')(t, z, r) for var1 in coords_str] for var2 in coords_str]\n",
    "fluctuations = Matrix(h_functions)\n",
    "\n",
    "# 2nd step: h_ir = 0\n",
    "for i in range(5):\n",
    "    fluctuations[i, 4] = 0\n",
    "\n",
    "# Change metric components to make self-adjoint\n",
    "for i in range(1, 5):\n",
    "    for j in range(i):\n",
    "        fluctuations[i, j] = fluctuations[j, i]\n",
    "\n",
    "ansatz = diag(g_tt, g_xx, g_yy, g_zz, g_rr)\n",
    "\n",
    "GG = ansatz + eps * fluctuations\n",
    "\n",
    "# Create a metric tensor\n",
    "metric = MetricTensor(GG.tolist(), (t,x,y, z, r))\n",
    "\n",
    "# Calculate the Einstein tensor\n",
    "einst = EinsteinTensor.from_metric(metric)\n",
    "\n",
    "display(einst.tensor())"
   ]
  }
 ],
 "metadata": {
  "kernelspec": {
   "display_name": ".venv",
   "language": "python",
   "name": "python3"
  },
  "language_info": {
   "codemirror_mode": {
    "name": "ipython",
    "version": 3
   },
   "file_extension": ".py",
   "mimetype": "text/x-python",
   "name": "python",
   "nbconvert_exporter": "python",
   "pygments_lexer": "ipython3",
   "version": "3.11.0"
  }
 },
 "nbformat": 4,
 "nbformat_minor": 2
}
