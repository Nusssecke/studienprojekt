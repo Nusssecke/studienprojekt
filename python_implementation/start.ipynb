{
 "cells": [
  {
   "cell_type": "code",
   "execution_count": 13,
   "metadata": {},
   "outputs": [],
   "source": [
    "import numpy\n",
    "from einsteinpy.symbolic import EinsteinTensor, MetricTensor\n",
    "from sympy import *"
   ]
  },
  {
   "cell_type": "markdown",
   "metadata": {},
   "source": [
    "# Quasinormal modes for electrically charged black brane in AdS5"
   ]
  },
  {
   "cell_type": "markdown",
   "metadata": {},
   "source": [
    "#### TODO? Copy introduction"
   ]
  },
  {
   "cell_type": "markdown",
   "metadata": {},
   "source": [
    "### Fluctuations for $k_T$ = 0 and $k_L = k$"
   ]
  },
  {
   "cell_type": "markdown",
   "metadata": {},
   "source": [
    "#### Riemannian geometry code:"
   ]
  },
  {
   "cell_type": "markdown",
   "metadata": {},
   "source": [
    "#### Metric ansatz:\n",
    "Use Poincaré patch coordinates."
   ]
  },
  {
   "cell_type": "code",
   "execution_count": 14,
   "metadata": {},
   "outputs": [],
   "source": [
    "# TODO: What are these\n",
    "def ZeroV(v):\n",
    "    return 0\n",
    "\n",
    "def Zero(v, r):\n",
    "    return 0\n",
    "\n",
    "# Define all necessary variables\n",
    "l, m = symbols('l, m')\n",
    "g, q, r = symbols('g, q, r', positive=True)\n",
    "mu = symbols('\\mu')\n",
    "t, x, y, z = symbols('t, x, y, z')\n",
    "coords = {t, x, y, z , r}\n",
    "coords_str = ['t', 'x', 'y', 'z', 'r']\n",
    "\n",
    "# TODO: What are these\n",
    "Q = sqrt(3 * g**2 * q**2 / 4)\n",
    "A_t = -Q / r**2 + mu\n",
    "# CHECK: Q^2=3 g^2/(2 \\[Kappa]^2 l^2) q^2"
   ]
  },
  {
   "cell_type": "markdown",
   "metadata": {},
   "source": [
    "Define the RN black brane background metric:  \n",
    "TODO: Compare with paper"
   ]
  },
  {
   "cell_type": "code",
   "execution_count": 15,
   "metadata": {},
   "outputs": [
    {
     "data": {
      "text/latex": [
       "$\\displaystyle \\left[\\begin{matrix}- \\frac{r^{2} \\left(- \\frac{l^{2} m}{r^{4}} + \\frac{l^{2} q^{2}}{r^{6}} + 1\\right)}{l^{2}} & 0 & 0 & 0 & 0\\\\0 & \\frac{r^{2}}{l^{2}} & 0 & 0 & 0\\\\0 & 0 & \\frac{r^{2}}{l^{2}} & 0 & 0\\\\0 & 0 & 0 & \\frac{r^{2}}{l^{2}} & 0\\\\0 & 0 & 0 & 0 & \\frac{l^{2}}{r^{2} \\left(- \\frac{l^{2} m}{r^{4}} + \\frac{l^{2} q^{2}}{r^{6}} + 1\\right)}\\end{matrix}\\right]$"
      ],
      "text/plain": [
       "Matrix([\n",
       "[-r**2*(-l**2*m/r**4 + l**2*q**2/r**6 + 1)/l**2,         0,         0,         0,                                               0],\n",
       "[                                             0, r**2/l**2,         0,         0,                                               0],\n",
       "[                                             0,         0, r**2/l**2,         0,                                               0],\n",
       "[                                             0,         0,         0, r**2/l**2,                                               0],\n",
       "[                                             0,         0,         0,         0, l**2/(r**2*(-l**2*m/r**4 + l**2*q**2/r**6 + 1))]])"
      ]
     },
     "metadata": {},
     "output_type": "display_data"
    }
   ],
   "source": [
    "f = 1 - m * l**2 / r**4 + q**2 * l**2 / r**6\n",
    "\n",
    "# RN metric components\n",
    "g_tt = -r**2 / l**2 * f\n",
    "g_xx = r**2 / l**2 \n",
    "g_yy = r**2 / l**2\n",
    "g_zz = r**2 / l**2\n",
    "g_rr = l**2 / (r**2 * f)\n",
    "\n",
    "# Construct RN metric\n",
    "ansatz = diag(g_tt, g_xx, g_yy, g_zz, g_rr) \n",
    "display(ansatz)"
   ]
  },
  {
   "cell_type": "markdown",
   "metadata": {},
   "source": [
    "These transformations show that the chosen metric is equivalent to Starinet's metric?"
   ]
  },
  {
   "cell_type": "code",
   "execution_count": 16,
   "metadata": {},
   "outputs": [],
   "source": [
    "# Compare to Starinets' metric:\n",
    "# Simplify the metric through replacements\n",
    "\n",
    "# Replace q -> 0, l -> 1, m -> 1 and simplify\n",
    "# replacements = [(q, 0), (l, 1), (m, 1)]\n",
    "# ansatz = ansatz.subs(replacements)\n",
    "# display(ansatz)\n",
    "\n",
    "# Introduce new variable u as r = 1/sqrt(u)\n",
    "# u = symbols('u')\n",
    "# ansatz = simplify(ansatz.subs(r, 1/sqrt(u)))\n",
    "# display(ansatz)\n",
    "\n",
    "# Take the bottom right element and multiply by 1/(4 u**3)\n",
    "# a = simplify(ansatz[4,4] * 1/(4*u**3))\n",
    "# display(a)"
   ]
  },
  {
   "cell_type": "markdown",
   "metadata": {},
   "source": [
    "##### Choose radial gauge and impose symmetry of the metric:\n",
    "Define 5x5 matrix with components h_ii  \n",
    "We already put in some assumptions in:  \n",
    "1. The variables only depend on (t,z,r) not on (t,x,y,z,r)\n",
    "2. h_ir = 0\n",
    "3. The matrix is self-adjoint"
   ]
  },
  {
   "cell_type": "code",
   "execution_count": 39,
   "metadata": {},
   "outputs": [
    {
     "data": {
      "text/latex": [
       "$\\displaystyle \\left[\\begin{matrix}h_{tt}{\\left(t,z,r \\right)} & h_{tx}{\\left(t,z,r \\right)} & h_{ty}{\\left(t,z,r \\right)} & h_{tz}{\\left(t,z,r \\right)} & 0\\\\h_{tx}{\\left(t,z,r \\right)} & h_{xx}{\\left(t,z,r \\right)} & h_{xy}{\\left(t,z,r \\right)} & h_{xz}{\\left(t,z,r \\right)} & 0\\\\h_{ty}{\\left(t,z,r \\right)} & h_{xy}{\\left(t,z,r \\right)} & h_{yy}{\\left(t,z,r \\right)} & h_{yz}{\\left(t,z,r \\right)} & 0\\\\h_{tz}{\\left(t,z,r \\right)} & h_{xz}{\\left(t,z,r \\right)} & h_{yz}{\\left(t,z,r \\right)} & h_{zz}{\\left(t,z,r \\right)} & 0\\\\0 & 0 & 0 & 0 & 0\\end{matrix}\\right]$"
      ],
      "text/plain": [
       "Matrix([\n",
       "[h_tt(t, z, r), h_tx(t, z, r), h_ty(t, z, r), h_tz(t, z, r), 0],\n",
       "[h_tx(t, z, r), h_xx(t, z, r), h_xy(t, z, r), h_xz(t, z, r), 0],\n",
       "[h_ty(t, z, r), h_xy(t, z, r), h_yy(t, z, r), h_yz(t, z, r), 0],\n",
       "[h_tz(t, z, r), h_xz(t, z, r), h_yz(t, z, r), h_zz(t, z, r), 0],\n",
       "[            0,             0,             0,             0, 0]])"
      ]
     },
     "metadata": {},
     "output_type": "display_data"
    }
   ],
   "source": [
    "h_functions = [[Function(f'h_{var2}{var1}')(t, z, r) for var1 in coords_str] for var2 in coords_str]\n",
    "fluctuations = Matrix(h_functions)\n",
    "\n",
    "# 2nd step: h_ir = 0\n",
    "for i in range(5):\n",
    "    fluctuations[i, 4] = 0\n",
    "\n",
    "# Change metric components to make self-adjoint\n",
    "for i in range(1, 5):\n",
    "    for j in range(i):\n",
    "        fluctuations[i, j] = fluctuations[j, i]\n",
    "\n",
    "display(fluctuations)\n"
   ]
  },
  {
   "cell_type": "markdown",
   "metadata": {},
   "source": [
    "We also create a fluctuations vector, which also has no radial component"
   ]
  },
  {
   "cell_type": "code",
   "execution_count": 41,
   "metadata": {},
   "outputs": [
    {
     "data": {
      "text/latex": [
       "$\\displaystyle \\left[\\begin{matrix}a_{t}{\\left(t,z,r \\right)}\\\\a_{x}{\\left(t,z,r \\right)}\\\\a_{y}{\\left(t,z,r \\right)}\\\\a_{z}{\\left(t,z,r \\right)}\\\\0\\end{matrix}\\right]$"
      ],
      "text/plain": [
       "Matrix([\n",
       "[a_t(t, z, r)],\n",
       "[a_x(t, z, r)],\n",
       "[a_y(t, z, r)],\n",
       "[a_z(t, z, r)],\n",
       "[           0]])"
      ]
     },
     "metadata": {},
     "output_type": "display_data"
    }
   ],
   "source": [
    "a_functions = [Function(f'a_{var}')(t, z, r) for var in coords_str]\n",
    "fluctuationsA = Matrix(a_functions)\n",
    "\n",
    "# No radial component\n",
    "fluctuationsA[4] = 0\n",
    "\n",
    "display(fluctuationsA)"
   ]
  },
  {
   "cell_type": "markdown",
   "metadata": {},
   "source": [
    "##### Define the metric and gauge field including fluctuations and compute the GR tensors:"
   ]
  },
  {
   "cell_type": "code",
   "execution_count": 49,
   "metadata": {},
   "outputs": [
    {
     "data": {
      "text/latex": [
       "$\\displaystyle \\left[\\begin{matrix}eps h_{tt}{\\left(t,z,r \\right)} - \\frac{r^{2} \\left(- \\frac{l^{2} m}{r^{4}} + \\frac{l^{2} q^{2}}{r^{6}} + 1\\right)}{l^{2}} & eps h_{tx}{\\left(t,z,r \\right)} & eps h_{ty}{\\left(t,z,r \\right)} & eps h_{tz}{\\left(t,z,r \\right)} & 0\\\\eps h_{tx}{\\left(t,z,r \\right)} & eps h_{xx}{\\left(t,z,r \\right)} + \\frac{r^{2}}{l^{2}} & eps h_{xy}{\\left(t,z,r \\right)} & eps h_{xz}{\\left(t,z,r \\right)} & 0\\\\eps h_{ty}{\\left(t,z,r \\right)} & eps h_{xy}{\\left(t,z,r \\right)} & eps h_{yy}{\\left(t,z,r \\right)} + \\frac{r^{2}}{l^{2}} & eps h_{yz}{\\left(t,z,r \\right)} & 0\\\\eps h_{tz}{\\left(t,z,r \\right)} & eps h_{xz}{\\left(t,z,r \\right)} & eps h_{yz}{\\left(t,z,r \\right)} & eps h_{zz}{\\left(t,z,r \\right)} + \\frac{r^{2}}{l^{2}} & 0\\\\0 & 0 & 0 & 0 & \\frac{l^{2}}{r^{2} \\left(- \\frac{l^{2} m}{r^{4}} + \\frac{l^{2} q^{2}}{r^{6}} + 1\\right)}\\end{matrix}\\right]$"
      ],
      "text/plain": [
       "Matrix([\n",
       "[eps*h_tt(t, z, r) - r**2*(-l**2*m/r**4 + l**2*q**2/r**6 + 1)/l**2,             eps*h_tx(t, z, r),             eps*h_ty(t, z, r),             eps*h_tz(t, z, r),                                               0],\n",
       "[                                                eps*h_tx(t, z, r), eps*h_xx(t, z, r) + r**2/l**2,             eps*h_xy(t, z, r),             eps*h_xz(t, z, r),                                               0],\n",
       "[                                                eps*h_ty(t, z, r),             eps*h_xy(t, z, r), eps*h_yy(t, z, r) + r**2/l**2,             eps*h_yz(t, z, r),                                               0],\n",
       "[                                                eps*h_tz(t, z, r),             eps*h_xz(t, z, r),             eps*h_yz(t, z, r), eps*h_zz(t, z, r) + r**2/l**2,                                               0],\n",
       "[                                                                0,                             0,                             0,                             0, l**2/(r**2*(-l**2*m/r**4 + l**2*q**2/r**6 + 1))]])"
      ]
     },
     "metadata": {},
     "output_type": "display_data"
    }
   ],
   "source": [
    "eps = symbols('eps')\n",
    "ll = 1\n",
    "\n",
    "GG = ansatz + eps * fluctuations # + eps**2 <- Mathematica: O[eps]^2\n",
    "AA = A_t * Matrix([1,0,0,0,0]) + eps * fluctuationsA # + eps**2 <- Mathematica: O[eps]^2\n",
    "\n",
    "display(GG)\n",
    "\n",
    "# This step uses a mathematica packages ://\n",
    "# https://library.wolfram.com/infocenter/MathSource/4484/\n",
    "# Alternatively use einsteinpy?\n",
    "\n",
    "# syms = symbols(\"t chi theta phi\")\n",
    "# t, ch, th, ph = syms\n",
    "# m = diag(-1, cos(t) ** 2, cos(t) ** 2 * sinh(ch) ** 2, cos(t) ** 2 * sinh(ch) ** 2 * sin(th) ** 2).tolist()\n",
    "# metric = MetricTensor(m, syms)\n",
    "# einst = EinsteinTensor.from_metric(metric)\n",
    "# display(einst.tensor())\n"
   ]
  }
 ],
 "metadata": {
  "kernelspec": {
   "display_name": ".venv",
   "language": "python",
   "name": "python3"
  },
  "language_info": {
   "codemirror_mode": {
    "name": "ipython",
    "version": 3
   },
   "file_extension": ".py",
   "mimetype": "text/x-python",
   "name": "python",
   "nbconvert_exporter": "python",
   "pygments_lexer": "ipython3",
   "version": "3.10.12"
  }
 },
 "nbformat": 4,
 "nbformat_minor": 2
}
