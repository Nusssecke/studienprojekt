{
 "cells": [
  {
   "cell_type": "markdown",
   "metadata": {},
   "source": [
    "Code to generate functions for 5x5 matrix"
   ]
  },
  {
   "cell_type": "code",
   "execution_count": null,
   "metadata": {},
   "outputs": [],
   "source": [
    "s = ''\n",
    "chars = ['t', 'x', 'y', 'z', 'r']\n",
    "for i in range(0, 5):\n",
    "    for j in range(0, 5):\n",
    "        s += f'h_{chars[i]}{chars[j]}, '\n",
    "\n",
    "print(s[:-2])"
   ]
  }
 ],
 "metadata": {
  "language_info": {
   "name": "python"
  }
 },
 "nbformat": 4,
 "nbformat_minor": 2
}
