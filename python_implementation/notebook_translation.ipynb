{
 "cells": [
  {
   "cell_type": "code",
   "execution_count": 66,
   "metadata": {},
   "outputs": [],
   "source": [
    "import numpy\n",
    "from einsteinpy.symbolic import EinsteinTensor, MetricTensor\n",
    "from sympy import *"
   ]
  },
  {
   "cell_type": "markdown",
   "metadata": {},
   "source": [
    "# Quasinormal modes for electrically charged black brane in AdS5"
   ]
  },
  {
   "cell_type": "markdown",
   "metadata": {},
   "source": [
    "#### TODO? Copy introduction"
   ]
  },
  {
   "cell_type": "markdown",
   "metadata": {},
   "source": [
    "### Fluctuations for $k_T$ = 0 and $k_L = k$"
   ]
  },
  {
   "cell_type": "markdown",
   "metadata": {},
   "source": [
    "#### Riemannian geometry code:"
   ]
  },
  {
   "cell_type": "markdown",
   "metadata": {},
   "source": [
    "#### Metric ansatz:\n",
    "Use Poincaré patch coordinates."
   ]
  },
  {
   "cell_type": "code",
   "execution_count": 67,
   "metadata": {},
   "outputs": [],
   "source": [
    "# TODO: What are these\n",
    "def ZeroV(v):\n",
    "    return 0\n",
    "\n",
    "def Zero(v, r):\n",
    "    return 0\n",
    "\n",
    "# Define all necessary variables\n",
    "l, m = symbols('l, m')\n",
    "g, q, r = symbols('g, q, r', positive=True)\n",
    "mu = symbols('\\mu')\n",
    "t, x, y, z = symbols('t, x, y, z')\n",
    "coords = {t, x, y, z , r}\n",
    "coords_str = ['t', 'x', 'y', 'z', 'r']\n",
    "\n",
    "# TODO: What are these\n",
    "Q = sqrt(3 * g**2 * q**2 / 4)\n",
    "A_t = -Q / r**2 + mu\n",
    "# CHECK: Q^2=3 g^2/(2 \\[Kappa]^2 l^2) q^2"
   ]
  },
  {
   "cell_type": "markdown",
   "metadata": {},
   "source": [
    "Define the RN black brane background metric:  \n",
    "TODO: Compare with paper"
   ]
  },
  {
   "cell_type": "code",
   "execution_count": 68,
   "metadata": {},
   "outputs": [
    {
     "data": {
      "text/latex": [
       "$\\displaystyle \\left[\\begin{matrix}- \\frac{r^{2} \\left(- \\frac{l^{2} m}{r^{4}} + \\frac{l^{2} q^{2}}{r^{6}} + 1\\right)}{l^{2}} & 0 & 0 & 0 & 0\\\\0 & \\frac{r^{2}}{l^{2}} & 0 & 0 & 0\\\\0 & 0 & \\frac{r^{2}}{l^{2}} & 0 & 0\\\\0 & 0 & 0 & \\frac{r^{2}}{l^{2}} & 0\\\\0 & 0 & 0 & 0 & \\frac{l^{2}}{r^{2} \\left(- \\frac{l^{2} m}{r^{4}} + \\frac{l^{2} q^{2}}{r^{6}} + 1\\right)}\\end{matrix}\\right]$"
      ],
      "text/plain": [
       "Matrix([\n",
       "[-r**2*(-l**2*m/r**4 + l**2*q**2/r**6 + 1)/l**2,         0,         0,         0,                                               0],\n",
       "[                                             0, r**2/l**2,         0,         0,                                               0],\n",
       "[                                             0,         0, r**2/l**2,         0,                                               0],\n",
       "[                                             0,         0,         0, r**2/l**2,                                               0],\n",
       "[                                             0,         0,         0,         0, l**2/(r**2*(-l**2*m/r**4 + l**2*q**2/r**6 + 1))]])"
      ]
     },
     "metadata": {},
     "output_type": "display_data"
    }
   ],
   "source": [
    "f = 1 - m * l**2 / r**4 + q**2 * l**2 / r**6\n",
    "\n",
    "# RN metric components\n",
    "g_tt = -r**2 / l**2 * f\n",
    "g_xx = r**2 / l**2 \n",
    "g_yy = r**2 / l**2\n",
    "g_zz = r**2 / l**2\n",
    "g_rr = l**2 / (r**2 * f)\n",
    "\n",
    "# Construct RN metric\n",
    "ansatz = diag(g_tt, g_xx, g_yy, g_zz, g_rr) \n",
    "display(ansatz)"
   ]
  },
  {
   "cell_type": "markdown",
   "metadata": {},
   "source": [
    "These transformations show that the chosen metric is equivalent to Starinet's metric?"
   ]
  },
  {
   "cell_type": "code",
   "execution_count": 69,
   "metadata": {},
   "outputs": [],
   "source": [
    "# Compare to Starinets' metric:\n",
    "# Simplify the metric through replacements\n",
    "\n",
    "# Replace q -> 0, l -> 1, m -> 1 and simplify\n",
    "# replacements = [(q, 0), (l, 1), (m, 1)]\n",
    "# ansatz = ansatz.subs(replacements)\n",
    "# display(ansatz)\n",
    "\n",
    "# Introduce new variable u as r = 1/sqrt(u)\n",
    "# u = symbols('u')\n",
    "# ansatz = simplify(ansatz.subs(r, 1/sqrt(u)))\n",
    "# display(ansatz)\n",
    "\n",
    "# Take the bottom right element and multiply by 1/(4 u**3)\n",
    "# a = simplify(ansatz[4,4] * 1/(4*u**3))\n",
    "# display(a)"
   ]
  },
  {
   "cell_type": "markdown",
   "metadata": {},
   "source": [
    "##### Choose radial gauge and impose symmetry of the metric:\n",
    "Define 5x5 matrix with components h_ii  \n",
    "We already put in some assumptions in:  \n",
    "1. The variables only depend on (t,z,r) not on (t,x,y,z,r)\n",
    "2. h_ir = 0\n",
    "3. The matrix is self-adjoint"
   ]
  },
  {
   "cell_type": "code",
   "execution_count": 70,
   "metadata": {},
   "outputs": [
    {
     "data": {
      "text/latex": [
       "$\\displaystyle \\left[\\begin{matrix}h_{tt}{\\left(t,z,r \\right)} & h_{tx}{\\left(t,z,r \\right)} & h_{ty}{\\left(t,z,r \\right)} & h_{tz}{\\left(t,z,r \\right)} & 0\\\\h_{tx}{\\left(t,z,r \\right)} & h_{xx}{\\left(t,z,r \\right)} & h_{xy}{\\left(t,z,r \\right)} & h_{xz}{\\left(t,z,r \\right)} & 0\\\\h_{ty}{\\left(t,z,r \\right)} & h_{xy}{\\left(t,z,r \\right)} & h_{yy}{\\left(t,z,r \\right)} & h_{yz}{\\left(t,z,r \\right)} & 0\\\\h_{tz}{\\left(t,z,r \\right)} & h_{xz}{\\left(t,z,r \\right)} & h_{yz}{\\left(t,z,r \\right)} & h_{zz}{\\left(t,z,r \\right)} & 0\\\\0 & 0 & 0 & 0 & 0\\end{matrix}\\right]$"
      ],
      "text/plain": [
       "Matrix([\n",
       "[h_tt(t, z, r), h_tx(t, z, r), h_ty(t, z, r), h_tz(t, z, r), 0],\n",
       "[h_tx(t, z, r), h_xx(t, z, r), h_xy(t, z, r), h_xz(t, z, r), 0],\n",
       "[h_ty(t, z, r), h_xy(t, z, r), h_yy(t, z, r), h_yz(t, z, r), 0],\n",
       "[h_tz(t, z, r), h_xz(t, z, r), h_yz(t, z, r), h_zz(t, z, r), 0],\n",
       "[            0,             0,             0,             0, 0]])"
      ]
     },
     "metadata": {},
     "output_type": "display_data"
    }
   ],
   "source": [
    "h_functions = [[Function(f'h_{var2}{var1}')(t, z, r) for var1 in coords_str] for var2 in coords_str]\n",
    "fluctuations = Matrix(h_functions)\n",
    "\n",
    "# 2nd step: h_ir = 0\n",
    "for i in range(5):\n",
    "    fluctuations[i, 4] = 0\n",
    "\n",
    "# Change metric components to make self-adjoint\n",
    "for i in range(1, 5):\n",
    "    for j in range(i):\n",
    "        fluctuations[i, j] = fluctuations[j, i]\n",
    "\n",
    "display(fluctuations)\n"
   ]
  },
  {
   "cell_type": "markdown",
   "metadata": {},
   "source": [
    "We also create a fluctuations vector, which also has no radial component"
   ]
  },
  {
   "cell_type": "code",
   "execution_count": 71,
   "metadata": {},
   "outputs": [
    {
     "data": {
      "text/latex": [
       "$\\displaystyle \\left[\\begin{matrix}a_{t}{\\left(t,z,r \\right)}\\\\a_{x}{\\left(t,z,r \\right)}\\\\a_{y}{\\left(t,z,r \\right)}\\\\a_{z}{\\left(t,z,r \\right)}\\\\0\\end{matrix}\\right]$"
      ],
      "text/plain": [
       "Matrix([\n",
       "[a_t(t, z, r)],\n",
       "[a_x(t, z, r)],\n",
       "[a_y(t, z, r)],\n",
       "[a_z(t, z, r)],\n",
       "[           0]])"
      ]
     },
     "metadata": {},
     "output_type": "display_data"
    }
   ],
   "source": [
    "a_functions = [Function(f'a_{var}')(t, z, r) for var in coords_str]\n",
    "fluctuationsA = Matrix(a_functions)\n",
    "\n",
    "# No radial component\n",
    "fluctuationsA[4] = 0\n",
    "\n",
    "display(fluctuationsA)"
   ]
  },
  {
   "cell_type": "markdown",
   "metadata": {},
   "source": [
    "##### Define the metric and gauge field including fluctuations and compute the GR tensors:"
   ]
  },
  {
   "cell_type": "code",
   "execution_count": 74,
   "metadata": {},
   "outputs": [
    {
     "data": {
      "text/plain": [
       "MetricTensor[[-r**2*(-l**2*m/r**4 + l**2*q**2/r**6 + 1)/l**2 + eps*h_tt(t, z, r) + O(eps**2), eps*h_tx(t, z, r) + O(eps**2), eps*h_ty(t, z, r) + O(eps**2), eps*h_tz(t, z, r) + O(eps**2), O(eps**2)], [eps*h_tx(t, z, r) + O(eps**2), r**2/l**2 + eps*h_xx(t, z, r) + O(eps**2), eps*h_xy(t, z, r) + O(eps**2), eps*h_xz(t, z, r) + O(eps**2), O(eps**2)], [eps*h_ty(t, z, r) + O(eps**2), eps*h_xy(t, z, r) + O(eps**2), r**2/l**2 + eps*h_yy(t, z, r) + O(eps**2), eps*h_yz(t, z, r) + O(eps**2), O(eps**2)], [eps*h_tz(t, z, r) + O(eps**2), eps*h_xz(t, z, r) + O(eps**2), eps*h_yz(t, z, r) + O(eps**2), r**2/l**2 + eps*h_zz(t, z, r) + O(eps**2), O(eps**2)], [O(eps**2), O(eps**2), O(eps**2), O(eps**2), l**2/(r**2*(-l**2*m/r**4 + l**2*q**2/r**6 + 1)) + O(eps**2)]]"
      ]
     },
     "metadata": {},
     "output_type": "display_data"
    },
    {
     "ename": "NotImplementedError",
     "evalue": "MRV set computation for functions in several variables not implemented.",
     "output_type": "error",
     "traceback": [
      "\u001b[0;31m---------------------------------------------------------------------------\u001b[0m",
      "\u001b[0;31mNotImplementedError\u001b[0m                       Traceback (most recent call last)",
      "Cell \u001b[0;32mIn[74], line 12\u001b[0m\n\u001b[1;32m     10\u001b[0m display(GG)\n\u001b[1;32m     11\u001b[0m \u001b[38;5;66;03m#use the metric to calculate the Einstein tensor\u001b[39;00m\n\u001b[0;32m---> 12\u001b[0m einst \u001b[38;5;241m=\u001b[39m \u001b[43mEinsteinTensor\u001b[49m\u001b[38;5;241;43m.\u001b[39;49m\u001b[43mfrom_metric\u001b[49m\u001b[43m(\u001b[49m\u001b[43mGG\u001b[49m\u001b[43m)\u001b[49m\n\u001b[1;32m     13\u001b[0m display(einst\u001b[38;5;241m.\u001b[39mtensor())\n\u001b[1;32m     15\u001b[0m \u001b[38;5;66;03m# This step uses a mathematica packages ://\u001b[39;00m\n\u001b[1;32m     16\u001b[0m \u001b[38;5;66;03m# https://library.wolfram.com/infocenter/MathSource/4484/\u001b[39;00m\n\u001b[1;32m     17\u001b[0m \u001b[38;5;66;03m# Alternatively use einsteinpy?\u001b[39;00m\n\u001b[0;32m   (...)\u001b[0m\n\u001b[1;32m     23\u001b[0m \u001b[38;5;66;03m# einst = EinsteinTensor.from_metric(metric)\u001b[39;00m\n\u001b[1;32m     24\u001b[0m \u001b[38;5;66;03m# display(einst.tensor())\u001b[39;00m\n",
      "File \u001b[0;32m~/Documents/studienprojekt/python_implementation/.venv/lib/python3.10/site-packages/einsteinpy/symbolic/einstein.py:52\u001b[0m, in \u001b[0;36mEinsteinTensor.from_metric\u001b[0;34m(cls, metric)\u001b[0m\n\u001b[1;32m     50\u001b[0m \u001b[38;5;129m@classmethod\u001b[39m\n\u001b[1;32m     51\u001b[0m \u001b[38;5;28;01mdef\u001b[39;00m \u001b[38;5;21mfrom_metric\u001b[39m(\u001b[38;5;28mcls\u001b[39m, metric):\n\u001b[0;32m---> 52\u001b[0m     t_ricci \u001b[38;5;241m=\u001b[39m \u001b[43mRicciTensor\u001b[49m\u001b[38;5;241;43m.\u001b[39;49m\u001b[43mfrom_metric\u001b[49m\u001b[43m(\u001b[49m\u001b[43mmetric\u001b[49m\u001b[43m)\u001b[49m\n\u001b[1;32m     53\u001b[0m     r_scalar \u001b[38;5;241m=\u001b[39m RicciScalar\u001b[38;5;241m.\u001b[39mfrom_riccitensor(t_ricci, t_ricci\u001b[38;5;241m.\u001b[39mparent_metric)\n\u001b[1;32m     54\u001b[0m     einstein_tensor \u001b[38;5;241m=\u001b[39m (\n\u001b[1;32m     55\u001b[0m         t_ricci\u001b[38;5;241m.\u001b[39mtensor() \u001b[38;5;241m-\u001b[39m (\u001b[38;5;241m1\u001b[39m \u001b[38;5;241m/\u001b[39m \u001b[38;5;241m2\u001b[39m) \u001b[38;5;241m*\u001b[39m metric\u001b[38;5;241m.\u001b[39mlower_config()\u001b[38;5;241m.\u001b[39mtensor() \u001b[38;5;241m*\u001b[39m r_scalar\u001b[38;5;241m.\u001b[39mexpr\n\u001b[1;32m     56\u001b[0m     )\n",
      "File \u001b[0;32m~/Documents/studienprojekt/python_implementation/.venv/lib/python3.10/site-packages/einsteinpy/symbolic/ricci.py:108\u001b[0m, in \u001b[0;36mRicciTensor.from_metric\u001b[0;34m(cls, metric)\u001b[0m\n\u001b[1;32m     97\u001b[0m \u001b[38;5;129m@classmethod\u001b[39m\n\u001b[1;32m     98\u001b[0m \u001b[38;5;28;01mdef\u001b[39;00m \u001b[38;5;21mfrom_metric\u001b[39m(\u001b[38;5;28mcls\u001b[39m, metric):\n\u001b[1;32m     99\u001b[0m \u001b[38;5;250m    \u001b[39m\u001b[38;5;124;03m\"\"\"\u001b[39;00m\n\u001b[1;32m    100\u001b[0m \u001b[38;5;124;03m    Get Ricci Tensor calculated from Metric Tensor\u001b[39;00m\n\u001b[1;32m    101\u001b[0m \n\u001b[0;32m   (...)\u001b[0m\n\u001b[1;32m    106\u001b[0m \n\u001b[1;32m    107\u001b[0m \u001b[38;5;124;03m    \"\"\"\u001b[39;00m\n\u001b[0;32m--> 108\u001b[0m     ch \u001b[38;5;241m=\u001b[39m \u001b[43mChristoffelSymbols\u001b[49m\u001b[38;5;241;43m.\u001b[39;49m\u001b[43mfrom_metric\u001b[49m\u001b[43m(\u001b[49m\u001b[43mmetric\u001b[49m\u001b[43m)\u001b[49m\n\u001b[1;32m    109\u001b[0m     \u001b[38;5;28;01mreturn\u001b[39;00m \u001b[38;5;28mcls\u001b[39m\u001b[38;5;241m.\u001b[39mfrom_christoffels(ch, parent_metric\u001b[38;5;241m=\u001b[39m\u001b[38;5;28;01mNone\u001b[39;00m)\n",
      "File \u001b[0;32m~/Documents/studienprojekt/python_implementation/.venv/lib/python3.10/site-packages/einsteinpy/symbolic/christoffel.py:63\u001b[0m, in \u001b[0;36mChristoffelSymbols.from_metric\u001b[0;34m(cls, metric)\u001b[0m\n\u001b[1;32m     61\u001b[0m tmplist \u001b[38;5;241m=\u001b[39m np\u001b[38;5;241m.\u001b[39mzeros((dims, dims, dims), dtype\u001b[38;5;241m=\u001b[39m\u001b[38;5;28mint\u001b[39m)\u001b[38;5;241m.\u001b[39mtolist()\n\u001b[1;32m     62\u001b[0m mat, syms \u001b[38;5;241m=\u001b[39m metric\u001b[38;5;241m.\u001b[39mlower_config()\u001b[38;5;241m.\u001b[39mtensor(), metric\u001b[38;5;241m.\u001b[39msymbols()\n\u001b[0;32m---> 63\u001b[0m matinv \u001b[38;5;241m=\u001b[39m \u001b[43msympy\u001b[49m\u001b[38;5;241;43m.\u001b[39;49m\u001b[43mMatrix\u001b[49m\u001b[43m(\u001b[49m\u001b[43mmat\u001b[49m\u001b[38;5;241;43m.\u001b[39;49m\u001b[43mtolist\u001b[49m\u001b[43m(\u001b[49m\u001b[43m)\u001b[49m\u001b[43m)\u001b[49m\u001b[38;5;241;43m.\u001b[39;49m\u001b[43minv\u001b[49m\u001b[43m(\u001b[49m\u001b[43m)\u001b[49m\n\u001b[1;32m     64\u001b[0m \u001b[38;5;28;01mfor\u001b[39;00m t \u001b[38;5;129;01min\u001b[39;00m \u001b[38;5;28mrange\u001b[39m(dims \u001b[38;5;241m*\u001b[39m\u001b[38;5;241m*\u001b[39m \u001b[38;5;241m3\u001b[39m):\n\u001b[1;32m     65\u001b[0m     \u001b[38;5;66;03m# i,j,k each goes from 0 to (dims-1)\u001b[39;00m\n\u001b[1;32m     66\u001b[0m     \u001b[38;5;66;03m# hack for codeclimate. Could be done with 3 nested for loops\u001b[39;00m\n\u001b[1;32m     67\u001b[0m     k \u001b[38;5;241m=\u001b[39m t \u001b[38;5;241m%\u001b[39m dims\n",
      "File \u001b[0;32m~/Documents/studienprojekt/python_implementation/.venv/lib/python3.10/site-packages/sympy/matrices/matrices.py:2177\u001b[0m, in \u001b[0;36mMatrixBase.inv\u001b[0;34m(self, method, iszerofunc, try_block_diag)\u001b[0m\n\u001b[1;32m   2176\u001b[0m \u001b[38;5;28;01mdef\u001b[39;00m \u001b[38;5;21minv\u001b[39m(\u001b[38;5;28mself\u001b[39m, method\u001b[38;5;241m=\u001b[39m\u001b[38;5;28;01mNone\u001b[39;00m, iszerofunc\u001b[38;5;241m=\u001b[39m_iszero, try_block_diag\u001b[38;5;241m=\u001b[39m\u001b[38;5;28;01mFalse\u001b[39;00m):\n\u001b[0;32m-> 2177\u001b[0m     \u001b[38;5;28;01mreturn\u001b[39;00m \u001b[43m_inv\u001b[49m\u001b[43m(\u001b[49m\u001b[38;5;28;43mself\u001b[39;49m\u001b[43m,\u001b[49m\u001b[43m \u001b[49m\u001b[43mmethod\u001b[49m\u001b[38;5;241;43m=\u001b[39;49m\u001b[43mmethod\u001b[49m\u001b[43m,\u001b[49m\u001b[43m \u001b[49m\u001b[43miszerofunc\u001b[49m\u001b[38;5;241;43m=\u001b[39;49m\u001b[43miszerofunc\u001b[49m\u001b[43m,\u001b[49m\n\u001b[1;32m   2178\u001b[0m \u001b[43m            \u001b[49m\u001b[43mtry_block_diag\u001b[49m\u001b[38;5;241;43m=\u001b[39;49m\u001b[43mtry_block_diag\u001b[49m\u001b[43m)\u001b[49m\n",
      "File \u001b[0;32m~/Documents/studienprojekt/python_implementation/.venv/lib/python3.10/site-packages/sympy/matrices/inverse.py:459\u001b[0m, in \u001b[0;36m_inv\u001b[0;34m(M, method, iszerofunc, try_block_diag)\u001b[0m\n\u001b[1;32m    456\u001b[0m     \u001b[38;5;28;01mreturn\u001b[39;00m diag(\u001b[38;5;241m*\u001b[39mr)\n\u001b[1;32m    458\u001b[0m \u001b[38;5;28;01mif\u001b[39;00m method \u001b[38;5;241m==\u001b[39m \u001b[38;5;124m\"\u001b[39m\u001b[38;5;124mGE\u001b[39m\u001b[38;5;124m\"\u001b[39m:\n\u001b[0;32m--> 459\u001b[0m     rv \u001b[38;5;241m=\u001b[39m \u001b[43mM\u001b[49m\u001b[38;5;241;43m.\u001b[39;49m\u001b[43minverse_GE\u001b[49m\u001b[43m(\u001b[49m\u001b[43miszerofunc\u001b[49m\u001b[38;5;241;43m=\u001b[39;49m\u001b[43miszerofunc\u001b[49m\u001b[43m)\u001b[49m\n\u001b[1;32m    460\u001b[0m \u001b[38;5;28;01melif\u001b[39;00m method \u001b[38;5;241m==\u001b[39m \u001b[38;5;124m\"\u001b[39m\u001b[38;5;124mLU\u001b[39m\u001b[38;5;124m\"\u001b[39m:\n\u001b[1;32m    461\u001b[0m     rv \u001b[38;5;241m=\u001b[39m M\u001b[38;5;241m.\u001b[39minverse_LU(iszerofunc\u001b[38;5;241m=\u001b[39miszerofunc)\n",
      "File \u001b[0;32m~/Documents/studienprojekt/python_implementation/.venv/lib/python3.10/site-packages/sympy/matrices/matrices.py:2162\u001b[0m, in \u001b[0;36mMatrixBase.inverse_GE\u001b[0;34m(self, iszerofunc)\u001b[0m\n\u001b[1;32m   2161\u001b[0m \u001b[38;5;28;01mdef\u001b[39;00m \u001b[38;5;21minverse_GE\u001b[39m(\u001b[38;5;28mself\u001b[39m, iszerofunc\u001b[38;5;241m=\u001b[39m_iszero):\n\u001b[0;32m-> 2162\u001b[0m     \u001b[38;5;28;01mreturn\u001b[39;00m \u001b[43m_inv_GE\u001b[49m\u001b[43m(\u001b[49m\u001b[38;5;28;43mself\u001b[39;49m\u001b[43m,\u001b[49m\u001b[43m \u001b[49m\u001b[43miszerofunc\u001b[49m\u001b[38;5;241;43m=\u001b[39;49m\u001b[43miszerofunc\u001b[49m\u001b[43m)\u001b[49m\n",
      "File \u001b[0;32m~/Documents/studienprojekt/python_implementation/.venv/lib/python3.10/site-packages/sympy/matrices/inverse.py:242\u001b[0m, in \u001b[0;36m_inv_GE\u001b[0;34m(M, iszerofunc)\u001b[0m\n\u001b[1;32m    239\u001b[0m     \u001b[38;5;28;01mraise\u001b[39;00m NonSquareMatrixError(\u001b[38;5;124m\"\u001b[39m\u001b[38;5;124mA Matrix must be square to invert.\u001b[39m\u001b[38;5;124m\"\u001b[39m)\n\u001b[1;32m    241\u001b[0m big \u001b[38;5;241m=\u001b[39m Matrix\u001b[38;5;241m.\u001b[39mhstack(M\u001b[38;5;241m.\u001b[39mas_mutable(), Matrix\u001b[38;5;241m.\u001b[39meye(M\u001b[38;5;241m.\u001b[39mrows))\n\u001b[0;32m--> 242\u001b[0m red \u001b[38;5;241m=\u001b[39m \u001b[43mbig\u001b[49m\u001b[38;5;241;43m.\u001b[39;49m\u001b[43mrref\u001b[49m\u001b[43m(\u001b[49m\u001b[43miszerofunc\u001b[49m\u001b[38;5;241;43m=\u001b[39;49m\u001b[43miszerofunc\u001b[49m\u001b[43m,\u001b[49m\u001b[43m \u001b[49m\u001b[43msimplify\u001b[49m\u001b[38;5;241;43m=\u001b[39;49m\u001b[38;5;28;43;01mTrue\u001b[39;49;00m\u001b[43m)\u001b[49m[\u001b[38;5;241m0\u001b[39m]\n\u001b[1;32m    244\u001b[0m \u001b[38;5;28;01mif\u001b[39;00m \u001b[38;5;28many\u001b[39m(iszerofunc(red[j, j]) \u001b[38;5;28;01mfor\u001b[39;00m j \u001b[38;5;129;01min\u001b[39;00m \u001b[38;5;28mrange\u001b[39m(red\u001b[38;5;241m.\u001b[39mrows)):\n\u001b[1;32m    245\u001b[0m     \u001b[38;5;28;01mraise\u001b[39;00m NonInvertibleMatrixError(\u001b[38;5;124m\"\u001b[39m\u001b[38;5;124mMatrix det == 0; not invertible.\u001b[39m\u001b[38;5;124m\"\u001b[39m)\n",
      "File \u001b[0;32m~/Documents/studienprojekt/python_implementation/.venv/lib/python3.10/site-packages/sympy/matrices/matrices.py:172\u001b[0m, in \u001b[0;36mMatrixReductions.rref\u001b[0;34m(self, iszerofunc, simplify, pivots, normalize_last)\u001b[0m\n\u001b[1;32m    170\u001b[0m \u001b[38;5;28;01mdef\u001b[39;00m \u001b[38;5;21mrref\u001b[39m(\u001b[38;5;28mself\u001b[39m, iszerofunc\u001b[38;5;241m=\u001b[39m_iszero, simplify\u001b[38;5;241m=\u001b[39m\u001b[38;5;28;01mFalse\u001b[39;00m, pivots\u001b[38;5;241m=\u001b[39m\u001b[38;5;28;01mTrue\u001b[39;00m,\n\u001b[1;32m    171\u001b[0m         normalize_last\u001b[38;5;241m=\u001b[39m\u001b[38;5;28;01mTrue\u001b[39;00m):\n\u001b[0;32m--> 172\u001b[0m     \u001b[38;5;28;01mreturn\u001b[39;00m \u001b[43m_rref\u001b[49m\u001b[43m(\u001b[49m\u001b[38;5;28;43mself\u001b[39;49m\u001b[43m,\u001b[49m\u001b[43m \u001b[49m\u001b[43miszerofunc\u001b[49m\u001b[38;5;241;43m=\u001b[39;49m\u001b[43miszerofunc\u001b[49m\u001b[43m,\u001b[49m\u001b[43m \u001b[49m\u001b[43msimplify\u001b[49m\u001b[38;5;241;43m=\u001b[39;49m\u001b[43msimplify\u001b[49m\u001b[43m,\u001b[49m\n\u001b[1;32m    173\u001b[0m \u001b[43m        \u001b[49m\u001b[43mpivots\u001b[49m\u001b[38;5;241;43m=\u001b[39;49m\u001b[43mpivots\u001b[49m\u001b[43m,\u001b[49m\u001b[43m \u001b[49m\u001b[43mnormalize_last\u001b[49m\u001b[38;5;241;43m=\u001b[39;49m\u001b[43mnormalize_last\u001b[49m\u001b[43m)\u001b[49m\n",
      "File \u001b[0;32m~/Documents/studienprojekt/python_implementation/.venv/lib/python3.10/site-packages/sympy/matrices/reductions.py:320\u001b[0m, in \u001b[0;36m_rref\u001b[0;34m(M, iszerofunc, simplify, pivots, normalize_last)\u001b[0m\n\u001b[1;32m    247\u001b[0m \u001b[38;5;250m\u001b[39m\u001b[38;5;124;03m\"\"\"Return reduced row-echelon form of matrix and indices of pivot vars.\u001b[39;00m\n\u001b[1;32m    248\u001b[0m \n\u001b[1;32m    249\u001b[0m \u001b[38;5;124;03mParameters\u001b[39;00m\n\u001b[0;32m   (...)\u001b[0m\n\u001b[1;32m    315\u001b[0m \u001b[38;5;124;03mof the matrix, set ``noramlize_last=False``\u001b[39;00m\n\u001b[1;32m    316\u001b[0m \u001b[38;5;124;03m\"\"\"\u001b[39;00m\n\u001b[1;32m    318\u001b[0m simpfunc \u001b[38;5;241m=\u001b[39m simplify \u001b[38;5;28;01mif\u001b[39;00m \u001b[38;5;28misinstance\u001b[39m(simplify, FunctionType) \u001b[38;5;28;01melse\u001b[39;00m _simplify\n\u001b[0;32m--> 320\u001b[0m mat, pivot_cols, _ \u001b[38;5;241m=\u001b[39m \u001b[43m_row_reduce\u001b[49m\u001b[43m(\u001b[49m\u001b[43mM\u001b[49m\u001b[43m,\u001b[49m\u001b[43m \u001b[49m\u001b[43miszerofunc\u001b[49m\u001b[43m,\u001b[49m\u001b[43m \u001b[49m\u001b[43msimpfunc\u001b[49m\u001b[43m,\u001b[49m\n\u001b[1;32m    321\u001b[0m \u001b[43m        \u001b[49m\u001b[43mnormalize_last\u001b[49m\u001b[43m,\u001b[49m\u001b[43m \u001b[49m\u001b[43mnormalize\u001b[49m\u001b[38;5;241;43m=\u001b[39;49m\u001b[38;5;28;43;01mTrue\u001b[39;49;00m\u001b[43m,\u001b[49m\u001b[43m \u001b[49m\u001b[43mzero_above\u001b[49m\u001b[38;5;241;43m=\u001b[39;49m\u001b[38;5;28;43;01mTrue\u001b[39;49;00m\u001b[43m)\u001b[49m\n\u001b[1;32m    323\u001b[0m \u001b[38;5;28;01mif\u001b[39;00m pivots:\n\u001b[1;32m    324\u001b[0m     mat \u001b[38;5;241m=\u001b[39m (mat, pivot_cols)\n",
      "File \u001b[0;32m~/Documents/studienprojekt/python_implementation/.venv/lib/python3.10/site-packages/sympy/matrices/reductions.py:124\u001b[0m, in \u001b[0;36m_row_reduce\u001b[0;34m(M, iszerofunc, simpfunc, normalize_last, normalize, zero_above)\u001b[0m\n\u001b[1;32m    121\u001b[0m \u001b[38;5;28;01mdef\u001b[39;00m \u001b[38;5;21m_row_reduce\u001b[39m(M, iszerofunc, simpfunc, normalize_last\u001b[38;5;241m=\u001b[39m\u001b[38;5;28;01mTrue\u001b[39;00m,\n\u001b[1;32m    122\u001b[0m                 normalize\u001b[38;5;241m=\u001b[39m\u001b[38;5;28;01mTrue\u001b[39;00m, zero_above\u001b[38;5;241m=\u001b[39m\u001b[38;5;28;01mTrue\u001b[39;00m):\n\u001b[0;32m--> 124\u001b[0m     mat, pivot_cols, swaps \u001b[38;5;241m=\u001b[39m \u001b[43m_row_reduce_list\u001b[49m\u001b[43m(\u001b[49m\u001b[38;5;28;43mlist\u001b[39;49m\u001b[43m(\u001b[49m\u001b[43mM\u001b[49m\u001b[43m)\u001b[49m\u001b[43m,\u001b[49m\u001b[43m \u001b[49m\u001b[43mM\u001b[49m\u001b[38;5;241;43m.\u001b[39;49m\u001b[43mrows\u001b[49m\u001b[43m,\u001b[49m\u001b[43m \u001b[49m\u001b[43mM\u001b[49m\u001b[38;5;241;43m.\u001b[39;49m\u001b[43mcols\u001b[49m\u001b[43m,\u001b[49m\u001b[43m \u001b[49m\u001b[43mM\u001b[49m\u001b[38;5;241;43m.\u001b[39;49m\u001b[43mone\u001b[49m\u001b[43m,\u001b[49m\n\u001b[1;32m    125\u001b[0m \u001b[43m            \u001b[49m\u001b[43miszerofunc\u001b[49m\u001b[43m,\u001b[49m\u001b[43m \u001b[49m\u001b[43msimpfunc\u001b[49m\u001b[43m,\u001b[49m\u001b[43m \u001b[49m\u001b[43mnormalize_last\u001b[49m\u001b[38;5;241;43m=\u001b[39;49m\u001b[43mnormalize_last\u001b[49m\u001b[43m,\u001b[49m\n\u001b[1;32m    126\u001b[0m \u001b[43m            \u001b[49m\u001b[43mnormalize\u001b[49m\u001b[38;5;241;43m=\u001b[39;49m\u001b[43mnormalize\u001b[49m\u001b[43m,\u001b[49m\u001b[43m \u001b[49m\u001b[43mzero_above\u001b[49m\u001b[38;5;241;43m=\u001b[39;49m\u001b[43mzero_above\u001b[49m\u001b[43m)\u001b[49m\n\u001b[1;32m    128\u001b[0m     \u001b[38;5;28;01mreturn\u001b[39;00m M\u001b[38;5;241m.\u001b[39m_new(M\u001b[38;5;241m.\u001b[39mrows, M\u001b[38;5;241m.\u001b[39mcols, mat), pivot_cols, swaps\n",
      "File \u001b[0;32m~/Documents/studienprojekt/python_implementation/.venv/lib/python3.10/site-packages/sympy/matrices/reductions.py:65\u001b[0m, in \u001b[0;36m_row_reduce_list\u001b[0;34m(mat, rows, cols, one, iszerofunc, simpfunc, normalize_last, normalize, zero_above)\u001b[0m\n\u001b[1;32m     62\u001b[0m \u001b[38;5;66;03m# use a fraction free method to zero above and below each pivot\u001b[39;00m\n\u001b[1;32m     63\u001b[0m \u001b[38;5;28;01mwhile\u001b[39;00m piv_col \u001b[38;5;241m<\u001b[39m cols \u001b[38;5;129;01mand\u001b[39;00m piv_row \u001b[38;5;241m<\u001b[39m rows:\n\u001b[1;32m     64\u001b[0m     pivot_offset, pivot_val, \\\n\u001b[0;32m---> 65\u001b[0m     assumed_nonzero, newly_determined \u001b[38;5;241m=\u001b[39m \u001b[43m_find_reasonable_pivot\u001b[49m\u001b[43m(\u001b[49m\n\u001b[1;32m     66\u001b[0m \u001b[43m            \u001b[49m\u001b[43mget_col\u001b[49m\u001b[43m(\u001b[49m\u001b[43mpiv_col\u001b[49m\u001b[43m)\u001b[49m\u001b[43m[\u001b[49m\u001b[43mpiv_row\u001b[49m\u001b[43m:\u001b[49m\u001b[43m]\u001b[49m\u001b[43m,\u001b[49m\u001b[43m \u001b[49m\u001b[43miszerofunc\u001b[49m\u001b[43m,\u001b[49m\u001b[43m \u001b[49m\u001b[43msimpfunc\u001b[49m\u001b[43m)\u001b[49m\n\u001b[1;32m     68\u001b[0m     \u001b[38;5;66;03m# _find_reasonable_pivot may have simplified some things\u001b[39;00m\n\u001b[1;32m     69\u001b[0m     \u001b[38;5;66;03m# in the process.  Let's not let them go to waste\u001b[39;00m\n\u001b[1;32m     70\u001b[0m     \u001b[38;5;28;01mfor\u001b[39;00m (offset, val) \u001b[38;5;129;01min\u001b[39;00m newly_determined:\n",
      "File \u001b[0;32m~/Documents/studienprojekt/python_implementation/.venv/lib/python3.10/site-packages/sympy/matrices/determinant.py:102\u001b[0m, in \u001b[0;36m_find_reasonable_pivot\u001b[0;34m(col, iszerofunc, simpfunc)\u001b[0m\n\u001b[1;32m    100\u001b[0m \u001b[38;5;28;01mif\u001b[39;00m possible_zeros[i] \u001b[38;5;129;01mis\u001b[39;00m \u001b[38;5;129;01mnot\u001b[39;00m \u001b[38;5;28;01mNone\u001b[39;00m:\n\u001b[1;32m    101\u001b[0m     \u001b[38;5;28;01mcontinue\u001b[39;00m\n\u001b[0;32m--> 102\u001b[0m \u001b[38;5;28;01mif\u001b[39;00m \u001b[43mx\u001b[49m\u001b[38;5;241;43m.\u001b[39;49m\u001b[43mequals\u001b[49m\u001b[43m(\u001b[49m\u001b[43mS\u001b[49m\u001b[38;5;241;43m.\u001b[39;49m\u001b[43mZero\u001b[49m\u001b[43m)\u001b[49m:\n\u001b[1;32m    103\u001b[0m     \u001b[38;5;66;03m# ``.iszero`` may return False with\u001b[39;00m\n\u001b[1;32m    104\u001b[0m     \u001b[38;5;66;03m# an implicit assumption (e.g., ``x.equals(0)``\u001b[39;00m\n\u001b[1;32m    105\u001b[0m     \u001b[38;5;66;03m# when ``x`` is a symbol), so only treat it\u001b[39;00m\n\u001b[1;32m    106\u001b[0m     \u001b[38;5;66;03m# as proved when ``.equals(0)`` returns True\u001b[39;00m\n\u001b[1;32m    107\u001b[0m     possible_zeros[i] \u001b[38;5;241m=\u001b[39m \u001b[38;5;28;01mTrue\u001b[39;00m\n\u001b[1;32m    108\u001b[0m     newly_determined\u001b[38;5;241m.\u001b[39mappend((i, S\u001b[38;5;241m.\u001b[39mZero))\n",
      "File \u001b[0;32m~/Documents/studienprojekt/python_implementation/.venv/lib/python3.10/site-packages/sympy/core/expr.py:757\u001b[0m, in \u001b[0;36mExpr.equals\u001b[0;34m(self, other, failing_expression)\u001b[0m\n\u001b[1;32m    754\u001b[0m     \u001b[38;5;28;01mif\u001b[39;00m \u001b[38;5;28;01mNone\u001b[39;00m \u001b[38;5;129;01mnot\u001b[39;00m \u001b[38;5;129;01min\u001b[39;00m fac_zero:  \u001b[38;5;66;03m# every part can be decided\u001b[39;00m\n\u001b[1;32m    755\u001b[0m         \u001b[38;5;28;01mreturn\u001b[39;00m \u001b[38;5;28many\u001b[39m(fac_zero)\n\u001b[0;32m--> 757\u001b[0m constant \u001b[38;5;241m=\u001b[39m \u001b[43mdiff\u001b[49m\u001b[38;5;241;43m.\u001b[39;49m\u001b[43mis_constant\u001b[49m\u001b[43m(\u001b[49m\u001b[43msimplify\u001b[49m\u001b[38;5;241;43m=\u001b[39;49m\u001b[38;5;28;43;01mFalse\u001b[39;49;00m\u001b[43m,\u001b[49m\u001b[43m \u001b[49m\u001b[43mfailing_number\u001b[49m\u001b[38;5;241;43m=\u001b[39;49m\u001b[38;5;28;43;01mTrue\u001b[39;49;00m\u001b[43m)\u001b[49m\n\u001b[1;32m    759\u001b[0m \u001b[38;5;28;01mif\u001b[39;00m constant \u001b[38;5;129;01mis\u001b[39;00m \u001b[38;5;28;01mFalse\u001b[39;00m:\n\u001b[1;32m    760\u001b[0m     \u001b[38;5;28;01mreturn\u001b[39;00m \u001b[38;5;28;01mFalse\u001b[39;00m\n",
      "File \u001b[0;32m~/Documents/studienprojekt/python_implementation/.venv/lib/python3.10/site-packages/sympy/core/expr.py:661\u001b[0m, in \u001b[0;36mExpr.is_constant\u001b[0;34m(self, *wrt, **flags)\u001b[0m\n\u001b[1;32m    658\u001b[0m \u001b[38;5;28;01mif\u001b[39;00m wrt_number \u001b[38;5;241m==\u001b[39m free:\n\u001b[1;32m    659\u001b[0m     \u001b[38;5;66;03m# try 0 (for a) and 1 (for b)\u001b[39;00m\n\u001b[1;32m    660\u001b[0m     \u001b[38;5;28;01mtry\u001b[39;00m:\n\u001b[0;32m--> 661\u001b[0m         a \u001b[38;5;241m=\u001b[39m \u001b[43mexpr\u001b[49m\u001b[38;5;241;43m.\u001b[39;49m\u001b[43msubs\u001b[49m\u001b[43m(\u001b[49m\u001b[38;5;28;43mlist\u001b[39;49m\u001b[43m(\u001b[49m\u001b[38;5;28;43mzip\u001b[39;49m\u001b[43m(\u001b[49m\u001b[43mfree\u001b[49m\u001b[43m,\u001b[49m\u001b[43m \u001b[49m\u001b[43m[\u001b[49m\u001b[38;5;241;43m0\u001b[39;49m\u001b[43m]\u001b[49m\u001b[38;5;241;43m*\u001b[39;49m\u001b[38;5;28;43mlen\u001b[39;49m\u001b[43m(\u001b[49m\u001b[43mfree\u001b[49m\u001b[43m)\u001b[49m\u001b[43m)\u001b[49m\u001b[43m)\u001b[49m\u001b[43m,\u001b[49m\n\u001b[1;32m    662\u001b[0m \u001b[43m            \u001b[49m\u001b[43msimultaneous\u001b[49m\u001b[38;5;241;43m=\u001b[39;49m\u001b[38;5;28;43;01mTrue\u001b[39;49;00m\u001b[43m)\u001b[49m\n\u001b[1;32m    663\u001b[0m         \u001b[38;5;28;01mif\u001b[39;00m a \u001b[38;5;129;01mis\u001b[39;00m S\u001b[38;5;241m.\u001b[39mNaN:\n\u001b[1;32m    664\u001b[0m             \u001b[38;5;66;03m# evaluation may succeed when substitution fails\u001b[39;00m\n\u001b[1;32m    665\u001b[0m             a \u001b[38;5;241m=\u001b[39m expr\u001b[38;5;241m.\u001b[39m_random(\u001b[38;5;28;01mNone\u001b[39;00m, \u001b[38;5;241m0\u001b[39m, \u001b[38;5;241m0\u001b[39m, \u001b[38;5;241m0\u001b[39m, \u001b[38;5;241m0\u001b[39m)\n",
      "File \u001b[0;32m~/Documents/studienprojekt/python_implementation/.venv/lib/python3.10/site-packages/sympy/core/basic.py:1031\u001b[0m, in \u001b[0;36mBasic.subs\u001b[0;34m(self, *args, **kwargs)\u001b[0m\n\u001b[1;32m   1027\u001b[0m d \u001b[38;5;241m=\u001b[39m Dummy(\u001b[38;5;124m'\u001b[39m\u001b[38;5;124msubs_d\u001b[39m\u001b[38;5;124m'\u001b[39m, commutative\u001b[38;5;241m=\u001b[39mcom)\n\u001b[1;32m   1028\u001b[0m \u001b[38;5;66;03m# using d*m so Subs will be used on dummy variables\u001b[39;00m\n\u001b[1;32m   1029\u001b[0m \u001b[38;5;66;03m# in things like Derivative(f(x, y), x) in which x\u001b[39;00m\n\u001b[1;32m   1030\u001b[0m \u001b[38;5;66;03m# is both free and bound\u001b[39;00m\n\u001b[0;32m-> 1031\u001b[0m rv \u001b[38;5;241m=\u001b[39m \u001b[43mrv\u001b[49m\u001b[38;5;241;43m.\u001b[39;49m\u001b[43m_subs\u001b[49m\u001b[43m(\u001b[49m\u001b[43mold\u001b[49m\u001b[43m,\u001b[49m\u001b[43m \u001b[49m\u001b[43md\u001b[49m\u001b[38;5;241;43m*\u001b[39;49m\u001b[43mm\u001b[49m\u001b[43m,\u001b[49m\u001b[43m \u001b[49m\u001b[38;5;241;43m*\u001b[39;49m\u001b[38;5;241;43m*\u001b[39;49m\u001b[43mkwargs\u001b[49m\u001b[43m)\u001b[49m\n\u001b[1;32m   1032\u001b[0m \u001b[38;5;28;01mif\u001b[39;00m \u001b[38;5;129;01mnot\u001b[39;00m \u001b[38;5;28misinstance\u001b[39m(rv, Basic):\n\u001b[1;32m   1033\u001b[0m     \u001b[38;5;28;01mbreak\u001b[39;00m\n",
      "File \u001b[0;32m~/Documents/studienprojekt/python_implementation/.venv/lib/python3.10/site-packages/sympy/core/cache.py:72\u001b[0m, in \u001b[0;36m__cacheit.<locals>.func_wrapper.<locals>.wrapper\u001b[0;34m(*args, **kwargs)\u001b[0m\n\u001b[1;32m     69\u001b[0m \u001b[38;5;129m@wraps\u001b[39m(func)\n\u001b[1;32m     70\u001b[0m \u001b[38;5;28;01mdef\u001b[39;00m \u001b[38;5;21mwrapper\u001b[39m(\u001b[38;5;241m*\u001b[39margs, \u001b[38;5;241m*\u001b[39m\u001b[38;5;241m*\u001b[39mkwargs):\n\u001b[1;32m     71\u001b[0m     \u001b[38;5;28;01mtry\u001b[39;00m:\n\u001b[0;32m---> 72\u001b[0m         retval \u001b[38;5;241m=\u001b[39m \u001b[43mcfunc\u001b[49m\u001b[43m(\u001b[49m\u001b[38;5;241;43m*\u001b[39;49m\u001b[43margs\u001b[49m\u001b[43m,\u001b[49m\u001b[43m \u001b[49m\u001b[38;5;241;43m*\u001b[39;49m\u001b[38;5;241;43m*\u001b[39;49m\u001b[43mkwargs\u001b[49m\u001b[43m)\u001b[49m\n\u001b[1;32m     73\u001b[0m     \u001b[38;5;28;01mexcept\u001b[39;00m \u001b[38;5;167;01mTypeError\u001b[39;00m \u001b[38;5;28;01mas\u001b[39;00m e:\n\u001b[1;32m     74\u001b[0m         \u001b[38;5;28;01mif\u001b[39;00m \u001b[38;5;129;01mnot\u001b[39;00m e\u001b[38;5;241m.\u001b[39margs \u001b[38;5;129;01mor\u001b[39;00m \u001b[38;5;129;01mnot\u001b[39;00m e\u001b[38;5;241m.\u001b[39margs[\u001b[38;5;241m0\u001b[39m]\u001b[38;5;241m.\u001b[39mstartswith(\u001b[38;5;124m'\u001b[39m\u001b[38;5;124munhashable type:\u001b[39m\u001b[38;5;124m'\u001b[39m):\n",
      "File \u001b[0;32m~/Documents/studienprojekt/python_implementation/.venv/lib/python3.10/site-packages/sympy/core/basic.py:1154\u001b[0m, in \u001b[0;36mBasic._subs\u001b[0;34m(self, old, new, **hints)\u001b[0m\n\u001b[1;32m   1152\u001b[0m rv \u001b[38;5;241m=\u001b[39m \u001b[38;5;28mself\u001b[39m\u001b[38;5;241m.\u001b[39m_eval_subs(old, new)\n\u001b[1;32m   1153\u001b[0m \u001b[38;5;28;01mif\u001b[39;00m rv \u001b[38;5;129;01mis\u001b[39;00m \u001b[38;5;28;01mNone\u001b[39;00m:\n\u001b[0;32m-> 1154\u001b[0m     rv \u001b[38;5;241m=\u001b[39m \u001b[43mfallback\u001b[49m\u001b[43m(\u001b[49m\u001b[38;5;28;43mself\u001b[39;49m\u001b[43m,\u001b[49m\u001b[43m \u001b[49m\u001b[43mold\u001b[49m\u001b[43m,\u001b[49m\u001b[43m \u001b[49m\u001b[43mnew\u001b[49m\u001b[43m)\u001b[49m\n\u001b[1;32m   1155\u001b[0m \u001b[38;5;28;01mreturn\u001b[39;00m rv\n",
      "File \u001b[0;32m~/Documents/studienprojekt/python_implementation/.venv/lib/python3.10/site-packages/sympy/core/basic.py:1131\u001b[0m, in \u001b[0;36mBasic._subs.<locals>.fallback\u001b[0;34m(self, old, new)\u001b[0m\n\u001b[1;32m   1129\u001b[0m         args[i] \u001b[38;5;241m=\u001b[39m arg\n\u001b[1;32m   1130\u001b[0m \u001b[38;5;28;01mif\u001b[39;00m hit:\n\u001b[0;32m-> 1131\u001b[0m     rv \u001b[38;5;241m=\u001b[39m \u001b[38;5;28;43mself\u001b[39;49m\u001b[38;5;241;43m.\u001b[39;49m\u001b[43mfunc\u001b[49m\u001b[43m(\u001b[49m\u001b[38;5;241;43m*\u001b[39;49m\u001b[43margs\u001b[49m\u001b[43m)\u001b[49m\n\u001b[1;32m   1132\u001b[0m     hack2 \u001b[38;5;241m=\u001b[39m hints\u001b[38;5;241m.\u001b[39mget(\u001b[38;5;124m'\u001b[39m\u001b[38;5;124mhack2\u001b[39m\u001b[38;5;124m'\u001b[39m, \u001b[38;5;28;01mFalse\u001b[39;00m)\n\u001b[1;32m   1133\u001b[0m     \u001b[38;5;28;01mif\u001b[39;00m hack2 \u001b[38;5;129;01mand\u001b[39;00m \u001b[38;5;28mself\u001b[39m\u001b[38;5;241m.\u001b[39mis_Mul \u001b[38;5;129;01mand\u001b[39;00m \u001b[38;5;129;01mnot\u001b[39;00m rv\u001b[38;5;241m.\u001b[39mis_Mul:  \u001b[38;5;66;03m# 2-arg hack\u001b[39;00m\n",
      "File \u001b[0;32m~/Documents/studienprojekt/python_implementation/.venv/lib/python3.10/site-packages/sympy/core/cache.py:72\u001b[0m, in \u001b[0;36m__cacheit.<locals>.func_wrapper.<locals>.wrapper\u001b[0;34m(*args, **kwargs)\u001b[0m\n\u001b[1;32m     69\u001b[0m \u001b[38;5;129m@wraps\u001b[39m(func)\n\u001b[1;32m     70\u001b[0m \u001b[38;5;28;01mdef\u001b[39;00m \u001b[38;5;21mwrapper\u001b[39m(\u001b[38;5;241m*\u001b[39margs, \u001b[38;5;241m*\u001b[39m\u001b[38;5;241m*\u001b[39mkwargs):\n\u001b[1;32m     71\u001b[0m     \u001b[38;5;28;01mtry\u001b[39;00m:\n\u001b[0;32m---> 72\u001b[0m         retval \u001b[38;5;241m=\u001b[39m \u001b[43mcfunc\u001b[49m\u001b[43m(\u001b[49m\u001b[38;5;241;43m*\u001b[39;49m\u001b[43margs\u001b[49m\u001b[43m,\u001b[49m\u001b[43m \u001b[49m\u001b[38;5;241;43m*\u001b[39;49m\u001b[38;5;241;43m*\u001b[39;49m\u001b[43mkwargs\u001b[49m\u001b[43m)\u001b[49m\n\u001b[1;32m     73\u001b[0m     \u001b[38;5;28;01mexcept\u001b[39;00m \u001b[38;5;167;01mTypeError\u001b[39;00m \u001b[38;5;28;01mas\u001b[39;00m e:\n\u001b[1;32m     74\u001b[0m         \u001b[38;5;28;01mif\u001b[39;00m \u001b[38;5;129;01mnot\u001b[39;00m e\u001b[38;5;241m.\u001b[39margs \u001b[38;5;129;01mor\u001b[39;00m \u001b[38;5;129;01mnot\u001b[39;00m e\u001b[38;5;241m.\u001b[39margs[\u001b[38;5;241m0\u001b[39m]\u001b[38;5;241m.\u001b[39mstartswith(\u001b[38;5;124m'\u001b[39m\u001b[38;5;124munhashable type:\u001b[39m\u001b[38;5;124m'\u001b[39m):\n",
      "File \u001b[0;32m~/Documents/studienprojekt/python_implementation/.venv/lib/python3.10/site-packages/sympy/core/operations.py:98\u001b[0m, in \u001b[0;36mAssocOp.__new__\u001b[0;34m(cls, evaluate, _sympify, *args)\u001b[0m\n\u001b[1;32m     95\u001b[0m \u001b[38;5;28;01mif\u001b[39;00m \u001b[38;5;28mlen\u001b[39m(args) \u001b[38;5;241m==\u001b[39m \u001b[38;5;241m1\u001b[39m:\n\u001b[1;32m     96\u001b[0m     \u001b[38;5;28;01mreturn\u001b[39;00m args[\u001b[38;5;241m0\u001b[39m]\n\u001b[0;32m---> 98\u001b[0m c_part, nc_part, order_symbols \u001b[38;5;241m=\u001b[39m \u001b[38;5;28;43mcls\u001b[39;49m\u001b[38;5;241;43m.\u001b[39;49m\u001b[43mflatten\u001b[49m\u001b[43m(\u001b[49m\u001b[43margs\u001b[49m\u001b[43m)\u001b[49m\n\u001b[1;32m     99\u001b[0m is_commutative \u001b[38;5;241m=\u001b[39m \u001b[38;5;129;01mnot\u001b[39;00m nc_part\n\u001b[1;32m    100\u001b[0m obj \u001b[38;5;241m=\u001b[39m \u001b[38;5;28mcls\u001b[39m\u001b[38;5;241m.\u001b[39m_from_args(c_part \u001b[38;5;241m+\u001b[39m nc_part, is_commutative)\n",
      "File \u001b[0;32m~/Documents/studienprojekt/python_implementation/.venv/lib/python3.10/site-packages/sympy/core/add.py:367\u001b[0m, in \u001b[0;36mAdd.flatten\u001b[0;34m(cls, seq)\u001b[0m\n\u001b[1;32m    364\u001b[0m \u001b[38;5;28;01mfor\u001b[39;00m t \u001b[38;5;129;01min\u001b[39;00m newseq:\n\u001b[1;32m    365\u001b[0m     \u001b[38;5;28;01mfor\u001b[39;00m o \u001b[38;5;129;01min\u001b[39;00m order_factors:\n\u001b[1;32m    366\u001b[0m         \u001b[38;5;66;03m# x + O(x) -> O(x)\u001b[39;00m\n\u001b[0;32m--> 367\u001b[0m         \u001b[38;5;28;01mif\u001b[39;00m \u001b[43mo\u001b[49m\u001b[38;5;241;43m.\u001b[39;49m\u001b[43mcontains\u001b[49m\u001b[43m(\u001b[49m\u001b[43mt\u001b[49m\u001b[43m)\u001b[49m:\n\u001b[1;32m    368\u001b[0m             t \u001b[38;5;241m=\u001b[39m \u001b[38;5;28;01mNone\u001b[39;00m\n\u001b[1;32m    369\u001b[0m             \u001b[38;5;28;01mbreak\u001b[39;00m\n",
      "File \u001b[0;32m~/Documents/studienprojekt/python_implementation/.venv/lib/python3.10/site-packages/sympy/core/cache.py:72\u001b[0m, in \u001b[0;36m__cacheit.<locals>.func_wrapper.<locals>.wrapper\u001b[0;34m(*args, **kwargs)\u001b[0m\n\u001b[1;32m     69\u001b[0m \u001b[38;5;129m@wraps\u001b[39m(func)\n\u001b[1;32m     70\u001b[0m \u001b[38;5;28;01mdef\u001b[39;00m \u001b[38;5;21mwrapper\u001b[39m(\u001b[38;5;241m*\u001b[39margs, \u001b[38;5;241m*\u001b[39m\u001b[38;5;241m*\u001b[39mkwargs):\n\u001b[1;32m     71\u001b[0m     \u001b[38;5;28;01mtry\u001b[39;00m:\n\u001b[0;32m---> 72\u001b[0m         retval \u001b[38;5;241m=\u001b[39m \u001b[43mcfunc\u001b[49m\u001b[43m(\u001b[49m\u001b[38;5;241;43m*\u001b[39;49m\u001b[43margs\u001b[49m\u001b[43m,\u001b[49m\u001b[43m \u001b[49m\u001b[38;5;241;43m*\u001b[39;49m\u001b[38;5;241;43m*\u001b[39;49m\u001b[43mkwargs\u001b[49m\u001b[43m)\u001b[49m\n\u001b[1;32m     73\u001b[0m     \u001b[38;5;28;01mexcept\u001b[39;00m \u001b[38;5;167;01mTypeError\u001b[39;00m \u001b[38;5;28;01mas\u001b[39;00m e:\n\u001b[1;32m     74\u001b[0m         \u001b[38;5;28;01mif\u001b[39;00m \u001b[38;5;129;01mnot\u001b[39;00m e\u001b[38;5;241m.\u001b[39margs \u001b[38;5;129;01mor\u001b[39;00m \u001b[38;5;129;01mnot\u001b[39;00m e\u001b[38;5;241m.\u001b[39margs[\u001b[38;5;241m0\u001b[39m]\u001b[38;5;241m.\u001b[39mstartswith(\u001b[38;5;124m'\u001b[39m\u001b[38;5;124munhashable type:\u001b[39m\u001b[38;5;124m'\u001b[39m):\n",
      "File \u001b[0;32m~/Documents/studienprojekt/python_implementation/.venv/lib/python3.10/site-packages/sympy/series/order.py:453\u001b[0m, in \u001b[0;36mOrder.contains\u001b[0;34m(self, expr)\u001b[0m\n\u001b[1;32m    450\u001b[0m                 \u001b[38;5;28;01mreturn\u001b[39;00m rv\n\u001b[1;32m    452\u001b[0m obj \u001b[38;5;241m=\u001b[39m \u001b[38;5;28mself\u001b[39m\u001b[38;5;241m.\u001b[39mfunc(expr, \u001b[38;5;241m*\u001b[39m\u001b[38;5;28mself\u001b[39m\u001b[38;5;241m.\u001b[39margs[\u001b[38;5;241m1\u001b[39m:])\n\u001b[0;32m--> 453\u001b[0m \u001b[38;5;28;01mreturn\u001b[39;00m \u001b[38;5;28;43mself\u001b[39;49m\u001b[38;5;241;43m.\u001b[39;49m\u001b[43mcontains\u001b[49m\u001b[43m(\u001b[49m\u001b[43mobj\u001b[49m\u001b[43m)\u001b[49m\n",
      "File \u001b[0;32m~/Documents/studienprojekt/python_implementation/.venv/lib/python3.10/site-packages/sympy/core/cache.py:72\u001b[0m, in \u001b[0;36m__cacheit.<locals>.func_wrapper.<locals>.wrapper\u001b[0;34m(*args, **kwargs)\u001b[0m\n\u001b[1;32m     69\u001b[0m \u001b[38;5;129m@wraps\u001b[39m(func)\n\u001b[1;32m     70\u001b[0m \u001b[38;5;28;01mdef\u001b[39;00m \u001b[38;5;21mwrapper\u001b[39m(\u001b[38;5;241m*\u001b[39margs, \u001b[38;5;241m*\u001b[39m\u001b[38;5;241m*\u001b[39mkwargs):\n\u001b[1;32m     71\u001b[0m     \u001b[38;5;28;01mtry\u001b[39;00m:\n\u001b[0;32m---> 72\u001b[0m         retval \u001b[38;5;241m=\u001b[39m \u001b[43mcfunc\u001b[49m\u001b[43m(\u001b[49m\u001b[38;5;241;43m*\u001b[39;49m\u001b[43margs\u001b[49m\u001b[43m,\u001b[49m\u001b[43m \u001b[49m\u001b[38;5;241;43m*\u001b[39;49m\u001b[38;5;241;43m*\u001b[39;49m\u001b[43mkwargs\u001b[49m\u001b[43m)\u001b[49m\n\u001b[1;32m     73\u001b[0m     \u001b[38;5;28;01mexcept\u001b[39;00m \u001b[38;5;167;01mTypeError\u001b[39;00m \u001b[38;5;28;01mas\u001b[39;00m e:\n\u001b[1;32m     74\u001b[0m         \u001b[38;5;28;01mif\u001b[39;00m \u001b[38;5;129;01mnot\u001b[39;00m e\u001b[38;5;241m.\u001b[39margs \u001b[38;5;129;01mor\u001b[39;00m \u001b[38;5;129;01mnot\u001b[39;00m e\u001b[38;5;241m.\u001b[39margs[\u001b[38;5;241m0\u001b[39m]\u001b[38;5;241m.\u001b[39mstartswith(\u001b[38;5;124m'\u001b[39m\u001b[38;5;124munhashable type:\u001b[39m\u001b[38;5;124m'\u001b[39m):\n",
      "File \u001b[0;32m~/Documents/studienprojekt/python_implementation/.venv/lib/python3.10/site-packages/sympy/series/order.py:428\u001b[0m, in \u001b[0;36mOrder.contains\u001b[0;34m(self, expr)\u001b[0m\n\u001b[1;32m    426\u001b[0m \u001b[38;5;28;01mfor\u001b[39;00m s \u001b[38;5;129;01min\u001b[39;00m common_symbols:\n\u001b[1;32m    427\u001b[0m     \u001b[38;5;28;01mfrom\u001b[39;00m \u001b[38;5;21;01msympy\u001b[39;00m\u001b[38;5;21;01m.\u001b[39;00m\u001b[38;5;21;01mseries\u001b[39;00m\u001b[38;5;21;01m.\u001b[39;00m\u001b[38;5;21;01mlimits\u001b[39;00m \u001b[38;5;28;01mimport\u001b[39;00m Limit\n\u001b[0;32m--> 428\u001b[0m     l \u001b[38;5;241m=\u001b[39m \u001b[43mLimit\u001b[49m\u001b[43m(\u001b[49m\u001b[43mratio\u001b[49m\u001b[43m,\u001b[49m\u001b[43m \u001b[49m\u001b[43ms\u001b[49m\u001b[43m,\u001b[49m\u001b[43m \u001b[49m\u001b[43mpoint\u001b[49m\u001b[43m)\u001b[49m\u001b[38;5;241;43m.\u001b[39;49m\u001b[43mdoit\u001b[49m\u001b[43m(\u001b[49m\u001b[43mheuristics\u001b[49m\u001b[38;5;241;43m=\u001b[39;49m\u001b[38;5;28;43;01mFalse\u001b[39;49;00m\u001b[43m)\u001b[49m\n\u001b[1;32m    429\u001b[0m     \u001b[38;5;28;01mif\u001b[39;00m \u001b[38;5;129;01mnot\u001b[39;00m \u001b[38;5;28misinstance\u001b[39m(l, Limit):\n\u001b[1;32m    430\u001b[0m         l \u001b[38;5;241m=\u001b[39m l \u001b[38;5;241m!=\u001b[39m \u001b[38;5;241m0\u001b[39m\n",
      "File \u001b[0;32m~/Documents/studienprojekt/python_implementation/.venv/lib/python3.10/site-packages/sympy/series/limits.py:375\u001b[0m, in \u001b[0;36mLimit.doit\u001b[0;34m(self, **hints)\u001b[0m\n\u001b[1;32m    372\u001b[0m l \u001b[38;5;241m=\u001b[39m \u001b[38;5;28;01mNone\u001b[39;00m\n\u001b[1;32m    374\u001b[0m \u001b[38;5;28;01mtry\u001b[39;00m:\n\u001b[0;32m--> 375\u001b[0m     r \u001b[38;5;241m=\u001b[39m \u001b[43mgruntz\u001b[49m\u001b[43m(\u001b[49m\u001b[43me\u001b[49m\u001b[43m,\u001b[49m\u001b[43m \u001b[49m\u001b[43mz\u001b[49m\u001b[43m,\u001b[49m\u001b[43m \u001b[49m\u001b[43mz0\u001b[49m\u001b[43m,\u001b[49m\u001b[43m \u001b[49m\u001b[38;5;28;43mdir\u001b[39;49m\u001b[43m)\u001b[49m\n\u001b[1;32m    376\u001b[0m     \u001b[38;5;28;01mif\u001b[39;00m r \u001b[38;5;129;01mis\u001b[39;00m S\u001b[38;5;241m.\u001b[39mNaN \u001b[38;5;129;01mor\u001b[39;00m l \u001b[38;5;129;01mis\u001b[39;00m S\u001b[38;5;241m.\u001b[39mNaN:\n\u001b[1;32m    377\u001b[0m         \u001b[38;5;28;01mraise\u001b[39;00m PoleError()\n",
      "File \u001b[0;32m~/Documents/studienprojekt/python_implementation/.venv/lib/python3.10/site-packages/sympy/series/gruntz.py:732\u001b[0m, in \u001b[0;36mgruntz\u001b[0;34m(e, z, z0, dir)\u001b[0m\n\u001b[1;32m    729\u001b[0m     \u001b[38;5;28;01melse\u001b[39;00m:\n\u001b[1;32m    730\u001b[0m         \u001b[38;5;28;01mraise\u001b[39;00m \u001b[38;5;167;01mNotImplementedError\u001b[39;00m(\u001b[38;5;124m\"\u001b[39m\u001b[38;5;124mdir must be \u001b[39m\u001b[38;5;124m'\u001b[39m\u001b[38;5;124m+\u001b[39m\u001b[38;5;124m'\u001b[39m\u001b[38;5;124m or \u001b[39m\u001b[38;5;124m'\u001b[39m\u001b[38;5;124m-\u001b[39m\u001b[38;5;124m'\u001b[39m\u001b[38;5;124m\"\u001b[39m)\n\u001b[0;32m--> 732\u001b[0m r \u001b[38;5;241m=\u001b[39m \u001b[43mlimitinf\u001b[49m\u001b[43m(\u001b[49m\u001b[43me0\u001b[49m\u001b[43m,\u001b[49m\u001b[43m \u001b[49m\u001b[43mz\u001b[49m\u001b[43m)\u001b[49m\n\u001b[1;32m    734\u001b[0m \u001b[38;5;66;03m# This is a bit of a heuristic for nice results... we always rewrite\u001b[39;00m\n\u001b[1;32m    735\u001b[0m \u001b[38;5;66;03m# tractable functions in terms of familiar intractable ones.\u001b[39;00m\n\u001b[1;32m    736\u001b[0m \u001b[38;5;66;03m# It might be nicer to rewrite the exactly to what they were initially,\u001b[39;00m\n\u001b[1;32m    737\u001b[0m \u001b[38;5;66;03m# but that would take some work to implement.\u001b[39;00m\n\u001b[1;32m    738\u001b[0m \u001b[38;5;28;01mreturn\u001b[39;00m r\u001b[38;5;241m.\u001b[39mrewrite(\u001b[38;5;124m'\u001b[39m\u001b[38;5;124mintractable\u001b[39m\u001b[38;5;124m'\u001b[39m, deep\u001b[38;5;241m=\u001b[39m\u001b[38;5;28;01mTrue\u001b[39;00m)\n",
      "File \u001b[0;32m~/Documents/studienprojekt/python_implementation/.venv/lib/python3.10/site-packages/sympy/core/cache.py:72\u001b[0m, in \u001b[0;36m__cacheit.<locals>.func_wrapper.<locals>.wrapper\u001b[0;34m(*args, **kwargs)\u001b[0m\n\u001b[1;32m     69\u001b[0m \u001b[38;5;129m@wraps\u001b[39m(func)\n\u001b[1;32m     70\u001b[0m \u001b[38;5;28;01mdef\u001b[39;00m \u001b[38;5;21mwrapper\u001b[39m(\u001b[38;5;241m*\u001b[39margs, \u001b[38;5;241m*\u001b[39m\u001b[38;5;241m*\u001b[39mkwargs):\n\u001b[1;32m     71\u001b[0m     \u001b[38;5;28;01mtry\u001b[39;00m:\n\u001b[0;32m---> 72\u001b[0m         retval \u001b[38;5;241m=\u001b[39m \u001b[43mcfunc\u001b[49m\u001b[43m(\u001b[49m\u001b[38;5;241;43m*\u001b[39;49m\u001b[43margs\u001b[49m\u001b[43m,\u001b[49m\u001b[43m \u001b[49m\u001b[38;5;241;43m*\u001b[39;49m\u001b[38;5;241;43m*\u001b[39;49m\u001b[43mkwargs\u001b[49m\u001b[43m)\u001b[49m\n\u001b[1;32m     73\u001b[0m     \u001b[38;5;28;01mexcept\u001b[39;00m \u001b[38;5;167;01mTypeError\u001b[39;00m \u001b[38;5;28;01mas\u001b[39;00m e:\n\u001b[1;32m     74\u001b[0m         \u001b[38;5;28;01mif\u001b[39;00m \u001b[38;5;129;01mnot\u001b[39;00m e\u001b[38;5;241m.\u001b[39margs \u001b[38;5;129;01mor\u001b[39;00m \u001b[38;5;129;01mnot\u001b[39;00m e\u001b[38;5;241m.\u001b[39margs[\u001b[38;5;241m0\u001b[39m]\u001b[38;5;241m.\u001b[39mstartswith(\u001b[38;5;124m'\u001b[39m\u001b[38;5;124munhashable type:\u001b[39m\u001b[38;5;124m'\u001b[39m):\n",
      "File \u001b[0;32m~/Documents/studienprojekt/python_implementation/.venv/lib/python3.10/site-packages/sympy/series/gruntz.py:452\u001b[0m, in \u001b[0;36mlimitinf\u001b[0;34m(e, x)\u001b[0m\n\u001b[1;32m    450\u001b[0m     c0, e0 \u001b[38;5;241m=\u001b[39m mrv_leadterm(e\u001b[38;5;241m.\u001b[39mmin, x)\n\u001b[1;32m    451\u001b[0m \u001b[38;5;28;01melse\u001b[39;00m:\n\u001b[0;32m--> 452\u001b[0m     c0, e0 \u001b[38;5;241m=\u001b[39m \u001b[43mmrv_leadterm\u001b[49m\u001b[43m(\u001b[49m\u001b[43me\u001b[49m\u001b[43m,\u001b[49m\u001b[43m \u001b[49m\u001b[43mx\u001b[49m\u001b[43m)\u001b[49m\n\u001b[1;32m    453\u001b[0m sig \u001b[38;5;241m=\u001b[39m sign(e0, x)\n\u001b[1;32m    454\u001b[0m \u001b[38;5;28;01mif\u001b[39;00m sig \u001b[38;5;241m==\u001b[39m \u001b[38;5;241m1\u001b[39m:\n",
      "File \u001b[0;32m~/Documents/studienprojekt/python_implementation/.venv/lib/python3.10/site-packages/sympy/core/cache.py:72\u001b[0m, in \u001b[0;36m__cacheit.<locals>.func_wrapper.<locals>.wrapper\u001b[0;34m(*args, **kwargs)\u001b[0m\n\u001b[1;32m     69\u001b[0m \u001b[38;5;129m@wraps\u001b[39m(func)\n\u001b[1;32m     70\u001b[0m \u001b[38;5;28;01mdef\u001b[39;00m \u001b[38;5;21mwrapper\u001b[39m(\u001b[38;5;241m*\u001b[39margs, \u001b[38;5;241m*\u001b[39m\u001b[38;5;241m*\u001b[39mkwargs):\n\u001b[1;32m     71\u001b[0m     \u001b[38;5;28;01mtry\u001b[39;00m:\n\u001b[0;32m---> 72\u001b[0m         retval \u001b[38;5;241m=\u001b[39m \u001b[43mcfunc\u001b[49m\u001b[43m(\u001b[49m\u001b[38;5;241;43m*\u001b[39;49m\u001b[43margs\u001b[49m\u001b[43m,\u001b[49m\u001b[43m \u001b[49m\u001b[38;5;241;43m*\u001b[39;49m\u001b[38;5;241;43m*\u001b[39;49m\u001b[43mkwargs\u001b[49m\u001b[43m)\u001b[49m\n\u001b[1;32m     73\u001b[0m     \u001b[38;5;28;01mexcept\u001b[39;00m \u001b[38;5;167;01mTypeError\u001b[39;00m \u001b[38;5;28;01mas\u001b[39;00m e:\n\u001b[1;32m     74\u001b[0m         \u001b[38;5;28;01mif\u001b[39;00m \u001b[38;5;129;01mnot\u001b[39;00m e\u001b[38;5;241m.\u001b[39margs \u001b[38;5;129;01mor\u001b[39;00m \u001b[38;5;129;01mnot\u001b[39;00m e\u001b[38;5;241m.\u001b[39margs[\u001b[38;5;241m0\u001b[39m]\u001b[38;5;241m.\u001b[39mstartswith(\u001b[38;5;124m'\u001b[39m\u001b[38;5;124munhashable type:\u001b[39m\u001b[38;5;124m'\u001b[39m):\n",
      "File \u001b[0;32m~/Documents/studienprojekt/python_implementation/.venv/lib/python3.10/site-packages/sympy/series/gruntz.py:535\u001b[0m, in \u001b[0;36mmrv_leadterm\u001b[0;34m(e, x)\u001b[0m\n\u001b[1;32m    533\u001b[0m     \u001b[38;5;28;01mreturn\u001b[39;00m (e, S\u001b[38;5;241m.\u001b[39mZero)\n\u001b[1;32m    534\u001b[0m \u001b[38;5;28;01mif\u001b[39;00m Omega \u001b[38;5;241m==\u001b[39m SubsSet():\n\u001b[0;32m--> 535\u001b[0m     Omega, exps \u001b[38;5;241m=\u001b[39m \u001b[43mmrv\u001b[49m\u001b[43m(\u001b[49m\u001b[43me\u001b[49m\u001b[43m,\u001b[49m\u001b[43m \u001b[49m\u001b[43mx\u001b[49m\u001b[43m)\u001b[49m\n\u001b[1;32m    536\u001b[0m \u001b[38;5;28;01mif\u001b[39;00m \u001b[38;5;129;01mnot\u001b[39;00m Omega:\n\u001b[1;32m    537\u001b[0m     \u001b[38;5;66;03m# e really does not depend on x after simplification\u001b[39;00m\n\u001b[1;32m    538\u001b[0m     \u001b[38;5;28;01mreturn\u001b[39;00m exps, S\u001b[38;5;241m.\u001b[39mZero\n",
      "File \u001b[0;32m~/Documents/studienprojekt/python_implementation/.venv/lib/python3.10/site-packages/sympy/series/gruntz.py:266\u001b[0m, in \u001b[0;36mmrv\u001b[0;34m(e, x)\u001b[0m\n\u001b[1;32m    264\u001b[0m     a, b \u001b[38;5;241m=\u001b[39m d\u001b[38;5;241m.\u001b[39mas_two_terms()\n\u001b[1;32m    265\u001b[0m     s1, e1 \u001b[38;5;241m=\u001b[39m mrv(a, x)\n\u001b[0;32m--> 266\u001b[0m     s2, e2 \u001b[38;5;241m=\u001b[39m \u001b[43mmrv\u001b[49m\u001b[43m(\u001b[49m\u001b[43mb\u001b[49m\u001b[43m,\u001b[49m\u001b[43m \u001b[49m\u001b[43mx\u001b[49m\u001b[43m)\u001b[49m\n\u001b[1;32m    267\u001b[0m     \u001b[38;5;28;01mreturn\u001b[39;00m mrv_max1(s1, s2, e\u001b[38;5;241m.\u001b[39mfunc(i, e1, e2), x)\n\u001b[1;32m    268\u001b[0m \u001b[38;5;28;01melif\u001b[39;00m e\u001b[38;5;241m.\u001b[39mis_Pow \u001b[38;5;129;01mand\u001b[39;00m e\u001b[38;5;241m.\u001b[39mbase \u001b[38;5;241m!=\u001b[39m S\u001b[38;5;241m.\u001b[39mExp1:\n",
      "File \u001b[0;32m~/Documents/studienprojekt/python_implementation/.venv/lib/python3.10/site-packages/sympy/series/gruntz.py:282\u001b[0m, in \u001b[0;36mmrv\u001b[0;34m(e, x)\u001b[0m\n\u001b[1;32m    280\u001b[0m         \u001b[38;5;28;01mreturn\u001b[39;00m mrv(exp(e1 \u001b[38;5;241m*\u001b[39m log(b1)), x)\n\u001b[1;32m    281\u001b[0m     \u001b[38;5;28;01melse\u001b[39;00m:\n\u001b[0;32m--> 282\u001b[0m         s, expr \u001b[38;5;241m=\u001b[39m \u001b[43mmrv\u001b[49m\u001b[43m(\u001b[49m\u001b[43mb1\u001b[49m\u001b[43m,\u001b[49m\u001b[43m \u001b[49m\u001b[43mx\u001b[49m\u001b[43m)\u001b[49m\n\u001b[1;32m    283\u001b[0m         \u001b[38;5;28;01mreturn\u001b[39;00m s, expr\u001b[38;5;241m*\u001b[39m\u001b[38;5;241m*\u001b[39me1\n\u001b[1;32m    284\u001b[0m \u001b[38;5;28;01melif\u001b[39;00m \u001b[38;5;28misinstance\u001b[39m(e, log):\n",
      "File \u001b[0;32m~/Documents/studienprojekt/python_implementation/.venv/lib/python3.10/site-packages/sympy/series/gruntz.py:311\u001b[0m, in \u001b[0;36mmrv\u001b[0;34m(e, x)\u001b[0m\n\u001b[1;32m    308\u001b[0m l2 \u001b[38;5;241m=\u001b[39m [s \u001b[38;5;28;01mfor\u001b[39;00m (s, _) \u001b[38;5;129;01min\u001b[39;00m l \u001b[38;5;28;01mif\u001b[39;00m s \u001b[38;5;241m!=\u001b[39m SubsSet()]\n\u001b[1;32m    309\u001b[0m \u001b[38;5;28;01mif\u001b[39;00m \u001b[38;5;28mlen\u001b[39m(l2) \u001b[38;5;241m!=\u001b[39m \u001b[38;5;241m1\u001b[39m:\n\u001b[1;32m    310\u001b[0m     \u001b[38;5;66;03m# e.g. something like BesselJ(x, x)\u001b[39;00m\n\u001b[0;32m--> 311\u001b[0m     \u001b[38;5;28;01mraise\u001b[39;00m \u001b[38;5;167;01mNotImplementedError\u001b[39;00m(\u001b[38;5;124m\"\u001b[39m\u001b[38;5;124mMRV set computation for functions in\u001b[39m\u001b[38;5;124m\"\u001b[39m\n\u001b[1;32m    312\u001b[0m                               \u001b[38;5;124m\"\u001b[39m\u001b[38;5;124m several variables not implemented.\u001b[39m\u001b[38;5;124m\"\u001b[39m)\n\u001b[1;32m    313\u001b[0m s, ss \u001b[38;5;241m=\u001b[39m l2[\u001b[38;5;241m0\u001b[39m], SubsSet()\n\u001b[1;32m    314\u001b[0m args \u001b[38;5;241m=\u001b[39m [ss\u001b[38;5;241m.\u001b[39mdo_subs(x[\u001b[38;5;241m1\u001b[39m]) \u001b[38;5;28;01mfor\u001b[39;00m x \u001b[38;5;129;01min\u001b[39;00m l]\n",
      "\u001b[0;31mNotImplementedError\u001b[0m: MRV set computation for functions in several variables not implemented."
     ]
    }
   ],
   "source": [
    "eps = symbols('eps')\n",
    "ll = 1\n",
    "\n",
    "GG = ansatz + eps * fluctuations + Matrix(5, 5, [O(eps**2)]*5*5)\n",
    "AA = A_t * Matrix([1,0,0,0,0]) + eps * fluctuationsA + Matrix(5, 1, [O(eps**2)]*5)\n",
    "\n",
    "M_list = [[GG[i, j] for j in range(GG.shape[1])] for i in range(GG.shape[0])]\n",
    "GG = MetricTensor(M_list, syms=[t, x, y, z, r])\n",
    "\n",
    "display(GG)\n",
    "#use the metric to calculate the Einstein tensor\n",
    "einst = EinsteinTensor.from_metric(GG)\n",
    "display(einst.tensor())\n",
    "\n",
    "# This step uses a mathematica packages ://\n",
    "# https://library.wolfram.com/infocenter/MathSource/4484/\n",
    "# Alternatively use einsteinpy?\n",
    "\n",
    "# syms = symbols(\"t chi theta phi\")\n",
    "# t, ch, th, ph = syms\n",
    "# m = diag(-1, cos(t) ** 2, cos(t) ** 2 * sinh(ch) ** 2, cos(t) ** 2 * sinh(ch) ** 2 * sin(th) ** 2).tolist()\n",
    "# metric = MetricTensor(m, syms)\n",
    "# einst = EinsteinTensor.from_metric(metric)\n",
    "# display(einst.tensor())\n"
   ]
  },
  {
   "cell_type": "code",
   "execution_count": null,
   "metadata": {},
   "outputs": [
    {
     "ename": "",
     "evalue": "",
     "output_type": "error",
     "traceback": [
      "\u001b[1;31mDer Kernel ist beim Ausführen von Code in der aktuellen Zelle oder einer vorherigen Zelle abgestürzt. \n",
      "\u001b[1;31mBitte überprüfen Sie den Code in der/den Zelle(n), um eine mögliche Fehlerursache zu identifizieren. \n",
      "\u001b[1;31mKlicken Sie <a href='https://aka.ms/vscodeJupyterKernelCrash'>hier</a>, um weitere Informationen zu erhalten. \n",
      "\u001b[1;31mWeitere Informationen finden Sie unter Jupyter <a href='command:jupyter.viewOutput'>Protokoll</a>."
     ]
    }
   ],
   "source": [
    "quit()"
   ]
  },
  {
   "cell_type": "code",
   "execution_count": null,
   "metadata": {},
   "outputs": [],
   "source": [
    "from sympy import symbols, Function, diag, Matrix\n",
    "from einsteinpy.symbolic import MetricTensor, EinsteinTensor\n",
    "\n",
    "# define your symbols and matrices\n",
    "eps = symbols('eps')\n",
    "t, z, r = symbols('t z r')\n",
    "coords_str = ['t', 'x', 'y', 'z', 'r']\n",
    "g_tt, g_xx, g_yy, g_zz, g_rr = symbols('g_tt g_xx g_yy g_zz g_rr')  # define these symbols\n",
    "\n",
    "h_functions = [[Function(f'h_{var2}{var1}')(t, z, r) for var1 in coords_str] for var2 in coords_str]\n",
    "fluctuations = Matrix(h_functions)\n",
    "\n",
    "# 2nd step: h_ir = 0\n",
    "for i in range(5):\n",
    "    fluctuations[i, 4] = 0\n",
    "\n",
    "# Change metric components to make self-adjoint\n",
    "for i in range(1, 5):\n",
    "    for j in range(i):\n",
    "        fluctuations[i, j] = fluctuations[j, i]\n",
    "\n",
    "ansatz = diag(g_tt, g_xx, g_yy, g_zz, g_rr)\n",
    "\n",
    "GG = ansatz + eps * fluctuations\n",
    "\n",
    "# Create a metric tensor\n",
    "metric = MetricTensor(GG.tolist(), (t,x,y, z, r))\n",
    "\n",
    "# Calculate the Einstein tensor\n",
    "einst = EinsteinTensor.from_metric(metric)\n",
    "\n",
    "display(einst.tensor())"
   ]
  }
 ],
 "metadata": {
  "kernelspec": {
   "display_name": ".venv",
   "language": "python",
   "name": "python3"
  },
  "language_info": {
   "codemirror_mode": {
    "name": "ipython",
    "version": 3
   },
   "file_extension": ".py",
   "mimetype": "text/x-python",
   "name": "python",
   "nbconvert_exporter": "python",
   "pygments_lexer": "ipython3",
   "version": "3.10.12"
  }
 },
 "nbformat": 4,
 "nbformat_minor": 2
}
